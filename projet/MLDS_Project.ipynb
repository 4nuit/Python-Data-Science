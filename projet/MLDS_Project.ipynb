{
 "cells": [
  {
   "cell_type": "code",
   "execution_count": null,
   "id": "60cc9b82-5e0b-4f92-a3e9-4ed45216a2f0",
   "metadata": {},
   "outputs": [],
   "source": [
    "#Necessary imports for the project\n",
    "\n",
    "import numpy as np\n",
    "import pandas as pd\n",
    "import matplotlib.pyplot as plt\n",
    "import seaborn as sns"
   ]
  },
  {
   "cell_type": "code",
   "execution_count": null,
   "id": "c18e6e4e-1842-4abd-8807-1df313b13a43",
   "metadata": {
    "scrolled": true
   },
   "outputs": [],
   "source": [
    "#Step 1 : Cleaning the dataset and keeping important variables\n",
    "\n",
    "Rentals_DF = pd.read_csv('https://raw.githubusercontent.com/rfordatascience/tidytuesday/master/data/2022/2022-07-05/rent.csv')\n",
    "Rentals_DF.columns = ['post_id', 'date', 'year', 'nhood', 'city', 'county', 'price', 'beds', 'baths', 'sqft', 'room_in_apt', 'address', 'lat', 'lon', 'title', 'description', 'details']\n",
    "#Rentals_DF.head()\n",
    "\n",
    "Rentals_DF_clean = Rentals_DF.drop(columns=['post_id', 'date', 'room_in_apt', 'address', 'lat', 'lon', 'title', 'description', 'details'])\n",
    "\n",
    "#Remove rows containing any NaN value\n",
    "Rentals_DF_clean = Rentals_DF_clean[Rentals_DF_clean['baths'].notna()]\n",
    "Rentals_DF_clean = Rentals_DF_clean[Rentals_DF_clean['county'].notna()]\n",
    "Rentals_DF_clean = Rentals_DF_clean[Rentals_DF_clean['sqft'].notna()]\n",
    "Rentals_DF_clean = Rentals_DF_clean[Rentals_DF_clean['beds'].notna()]\n",
    "#Rentals_DF_clean.isnull().sum()\n",
    "\n",
    "#Remove outliers -- IMPORTANT : I plotted the scatterplots for sqft vs price before this and the data was skewed \n",
    "\n",
    "from scipy import stats\n",
    "\n",
    "# Calculate Z-scores for 'price' and 'sqft'\n",
    "z_scores_price = np.abs(stats.zscore(Rentals_DF_clean['price']))\n",
    "z_scores_sqft = np.abs(stats.zscore(Rentals_DF_clean['sqft']))\n",
    "\n",
    "# Define a threshold for Z-scores (e.g., 3 standard deviations)\n",
    "threshold = 3\n",
    "\n",
    "# Create a mask to identify outliers\n",
    "outliers_mask = (z_scores_price > threshold) | (z_scores_sqft > threshold)\n",
    "\n",
    "# Remove outliers from the DataFrame\n",
    "Rentals_DF_clean = Rentals_DF_clean[~outliers_mask]\n",
    "\n",
    "\n",
    "Rentals_DF_clean.head()"
   ]
  },
  {
   "cell_type": "code",
   "execution_count": null,
   "id": "72cb684d-1760-45f2-837d-830418672718",
   "metadata": {},
   "outputs": [],
   "source": [
    "#Step 2 : Initial data analysis\n",
    "\n",
    "Rentals_DF_clean.describe()\n",
    "\n",
    "# Univariate Analysis - Identification of relations between variables\n",
    "# Histogram for 'price' variable\n",
    "plt.figure(figsize=(8, 6))\n",
    "sns.histplot(Rentals_DF_clean['price'], kde=True)\n",
    "plt.title('Price Distribution')\n",
    "plt.xlabel('Price')\n",
    "plt.show()\n",
    "\n",
    "# Box plot for 'bedrooms' vs 'price'\n",
    "plt.figure(figsize=(8, 6))\n",
    "sns.boxplot(x='beds', y='price', data=Rentals_DF_clean)\n",
    "plt.title('Price vs Number of Bedrooms')\n",
    "plt.xlabel('Bedrooms')\n",
    "plt.ylabel('Price')\n",
    "plt.show()\n",
    "\n",
    "# Bar plot for 'neighborhood' counts\n",
    "# Create a subset of the top 85 neighborhoods (if we try to plot them all its unreadable...)\n",
    "top_neighborhoods = Rentals_DF_clean['nhood'].value_counts().nlargest(85)\n",
    "plt.figure(figsize=(12, 6))\n",
    "sns.countplot(x='nhood', data=Rentals_DF_clean, order=top_neighborhoods.index)\n",
    "plt.title('Neighborhood Counts')\n",
    "plt.xticks(rotation=90)\n",
    "plt.show()\n"
   ]
  },
  {
   "cell_type": "code",
   "execution_count": null,
   "id": "99526f0b-dee7-452a-b1ae-261882e4f9ed",
   "metadata": {},
   "outputs": [],
   "source": [
    "#Bivariate analysis\n",
    "\n",
    "# Scatter plot for 'sqft' vs 'price'\n",
    "plt.figure(figsize=(8, 6))\n",
    "sns.scatterplot(x='sqft', y='price', data=Rentals_DF_clean)\n",
    "plt.title('Price vs Square Footage')\n",
    "plt.xlabel('Square Footage')\n",
    "plt.ylabel('Price')\n",
    "plt.show()\n",
    "\n",
    "# Select the variables of interest\n",
    "variables_of_interest = ['price', 'beds', 'baths', 'year', 'sqft']\n",
    "\n",
    "# Create a pair plot\n",
    "sns.pairplot(Rentals_DF_clean[variables_of_interest])\n",
    "plt.suptitle(\"Pair Plot of Price, Bedrooms, Bathrooms, Year, and Sqft\", y=1.02)\n",
    "plt.show()\n"
   ]
  },
  {
   "cell_type": "code",
   "execution_count": null,
   "id": "52ea72a2-d0a8-47ce-8801-5cf936e3829e",
   "metadata": {},
   "outputs": [],
   "source": []
  }
 ],
 "metadata": {
  "kernelspec": {
   "display_name": "Python 3 (ipykernel)",
   "language": "python",
   "name": "python3"
  },
  "language_info": {
   "codemirror_mode": {
    "name": "ipython",
    "version": 3
   },
   "file_extension": ".py",
   "mimetype": "text/x-python",
   "name": "python",
   "nbconvert_exporter": "python",
   "pygments_lexer": "ipython3",
   "version": "3.12.0"
  }
 },
 "nbformat": 4,
 "nbformat_minor": 5
}
