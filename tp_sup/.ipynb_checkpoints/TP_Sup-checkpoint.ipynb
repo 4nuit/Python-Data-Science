{
 "cells": [
  {
   "cell_type": "markdown",
   "id": "42a8a2d3",
   "metadata": {},
   "source": [
    "# TP Supervised Learning"
   ]
  },
  {
   "cell_type": "markdown",
   "id": "554f6d58",
   "metadata": {},
   "source": [
    "Ce notebook est basé sur le numerical tour de *Gabriel Peyré* qui introduit les notions essentielles à la regression linéaire et logistique."
   ]
  },
  {
   "cell_type": "code",
   "execution_count": 205,
   "id": "0c8eeb9d",
   "metadata": {},
   "outputs": [],
   "source": [
    "import numpy as np\n",
    "import pandas as pd\n",
    "import matplotlib.pyplot as plt\n",
    "import seaborn as sns"
   ]
  },
  {
   "cell_type": "markdown",
   "id": "c7ec2e7a",
   "metadata": {},
   "source": [
    "Fonctions utiles :"
   ]
  },
  {
   "cell_type": "code",
   "execution_count": 206,
   "id": "4d8a2a34",
   "metadata": {},
   "outputs": [],
   "source": [
    "#  convert to a column vector\n",
    "def MakeCol(y): return y.reshape(-1,1)\n",
    "#  convert to a row vector\n",
    "def MakeRow(y): return y.reshape(1,-1)\n",
    "# find non zero/true elements\n",
    "def find(x): return np.nonzero(x)[0]"
   ]
  },
  {
   "cell_type": "markdown",
   "id": "8be3e45d",
   "metadata": {},
   "source": [
    "## Exercice 1 : Linear Regression"
   ]
  },
  {
   "cell_type": "markdown",
   "id": "aaa789cd",
   "metadata": {},
   "source": [
    "### Data Simulation"
   ]
  },
  {
   "cell_type": "markdown",
   "id": "8e8a95c2",
   "metadata": {},
   "source": [
    "Tout d'abord on simule un problème de régression."
   ]
  },
  {
   "cell_type": "code",
   "execution_count": 207,
   "id": "28c8f5a5",
   "metadata": {},
   "outputs": [],
   "source": [
    "from sklearn import datasets\n",
    "X, y, coef = datasets.make_regression(n_samples = 100, n_features = 10,\n",
    "                                n_informative = 4, n_targets = 1,\n",
    "                                noise = 10.0, coef = True)"
   ]
  },
  {
   "cell_type": "markdown",
   "id": "7a26f728",
   "metadata": {},
   "source": [
    "**Q: Que fait le code ci-dessus, que font les paramètres ?**"
   ]
  },
  {
   "cell_type": "markdown",
   "id": "346e9038",
   "metadata": {},
   "source": [
    " Ce code génère un ensemble de données synthétiques pour une tâche de régression avec 100 échantillons, 10 caractéristiques dont 4 sont informatives, une seule cible à prédire, et ajoute du bruit gaussien. Les **données d'entrée**, les **valeurs cibles** et les **coefficients** utilisés pour générer les données sont stockés dans les variables **X**, **y** et **coef**, respectivement."
   ]
  },
  {
   "cell_type": "markdown",
   "id": "6f4f664f",
   "metadata": {},
   "source": [
    "**Q : Séparer le dataset en un ensemble d'apprentissage et de test.**"
   ]
  },
  {
   "cell_type": "code",
   "execution_count": 208,
   "id": "ed4d6eb2",
   "metadata": {},
   "outputs": [],
   "source": [
    "from sklearn.model_selection import train_test_split\n",
    "X_train, X_test, Y_train, Y_test= train_test_split(X, y, test_size=0.5)"
   ]
  },
  {
   "cell_type": "markdown",
   "id": "3bb2c16f",
   "metadata": {},
   "source": [
    "**Q : Pourquoi n'utilise-t-on pas d'ensemble de validation ici ?**"
   ]
  },
  {
   "cell_type": "markdown",
   "id": "b328a592",
   "metadata": {},
   "source": []
  },
  {
   "cell_type": "markdown",
   "id": "f899c15e",
   "metadata": {
    "tags": []
   },
   "source": [
    "###  Least square solution"
   ]
  },
  {
   "cell_type": "markdown",
   "id": "11a723dd",
   "metadata": {},
   "source": [
    "On rappelle que l'estimateur des moindres carrés est donné par : $\\hat{\\beta} = (X^T X)^{-1} X^Ty $"
   ]
  },
  {
   "cell_type": "markdown",
   "id": "cf80ce90",
   "metadata": {},
   "source": [
    "**Q: Coder une fonction qui permet de calculer une estimation de celui-ci à partir des données.**"
   ]
  },
  {
   "cell_type": "code",
   "execution_count": 209,
   "id": "2668ab76",
   "metadata": {},
   "outputs": [
    {
     "name": "stdout",
     "output_type": "stream",
     "text": [
      "[ 1.72585963e+01  1.54573371e+00 -2.61143101e+00  7.52427000e-01\n",
      "  4.91661628e-02  1.20207411e+00  9.88716538e+01  4.73432535e+01\n",
      " -1.41480394e+00  5.84031766e+00]\n"
     ]
    }
   ],
   "source": [
    "def test(X,y) :\n",
    "    B = np.linalg.inv(np.dot(np.transpose(X),X))\n",
    "    B = np.dot(B,np.transpose(X))\n",
    "    return np.dot(B,y)\n",
    "\n",
    "def reg_OLS(X,y):\n",
    "    return np.linalg.inv(np.transpose(X)@X)@np.transpose(X)@y\n",
    "\n",
    "assert(test(X,y).all() == reg_OLS(X,y).all())\n",
    "print(reg_OLS(X,y))"
   ]
  },
  {
   "cell_type": "markdown",
   "id": "75775ab8",
   "metadata": {},
   "source": [
    "**Q: Donner un avis sur les valeurs des paramètres. Que constate-t-on et pourquoi ?**"
   ]
  },
  {
   "cell_type": "markdown",
   "id": "657b2d9c",
   "metadata": {},
   "source": []
  },
  {
   "cell_type": "markdown",
   "id": "8846fa4b",
   "metadata": {},
   "source": [
    "**Q: Créer une fonction `reg_lin` qui permet de prédire les labels `y` pour de nouvelles données `X`.**"
   ]
  },
  {
   "cell_type": "code",
   "execution_count": 210,
   "id": "8711f795",
   "metadata": {},
   "outputs": [
    {
     "name": "stdout",
     "output_type": "stream",
     "text": [
      "[ -67.63690313  212.2319872   -33.67767705   34.66712988 -104.51715376\n",
      "   98.41809824   87.88433872 -146.57336582 -163.50988132 -123.0358453\n",
      "  124.9628315    64.19850412  142.14391365   54.61362602  -36.46171812\n",
      "  105.4406085     5.14632672   57.9974164    85.717984    -30.79369131\n",
      "    0.4708235  -125.01830314   83.74538143   -9.76718001   18.38960376\n",
      "   56.53760732 -105.65864502    6.70953306 -215.76542921  -68.68723904\n",
      " -131.19300127  -90.1558958    -8.56772138   54.79782768 -161.48114717\n",
      " -115.67773111  -33.33280255 -178.88896574  -66.1848716   -84.78163301\n",
      " -140.45982605  101.68934962  -28.1220786  -154.16668532 -158.70034973\n",
      "   18.93278298   10.6490884   -59.11015574  -99.33366866   38.85674712]\n"
     ]
    }
   ],
   "source": [
    "def reg_lin(X_train,X_test,y):\n",
    "    coeff = reg_OLS(X_train,y)\n",
    "    y_pred = X_test @ coeff\n",
    "    return y_pred\n",
    "\n",
    "Y_pred = reg_lin(X_train,X_test,Y_train)\n",
    "print(Y_pred)"
   ]
  },
  {
   "cell_type": "markdown",
   "id": "476d2a02",
   "metadata": {},
   "source": [
    "**Q : Tester sur l'ensemble de test. Quel taux d'erreur avez-vous ? Que pouvez-vous dire ?**"
   ]
  },
  {
   "cell_type": "code",
   "execution_count": 211,
   "id": "1faea49a",
   "metadata": {},
   "outputs": [
    {
     "name": "stdout",
     "output_type": "stream",
     "text": [
      "9490.988930732463\n"
     ]
    }
   ],
   "source": [
    "def root_mean_squared_error(y_true,y_pred):\n",
    "    return math.sqrt((y_true-y_pred)**2.mean())\n",
    "\n",
    "print(np.var(Y_pred))\n",
    "print(root_mean_squared_error(Y_train,Y_pred))"
   ]
  },
  {
   "cell_type": "markdown",
   "id": "0aed6e52",
   "metadata": {
    "tags": []
   },
   "source": [
    "###  Descente de gradient"
   ]
  },
  {
   "cell_type": "markdown",
   "id": "483827ef",
   "metadata": {},
   "source": [
    "On rappelle que l'objectif est de minimiser $f(\\beta) = \\frac{1}{2} \\| X\\beta - y \\|^2$"
   ]
  },
  {
   "cell_type": "markdown",
   "id": "69f42e80",
   "metadata": {},
   "source": [
    "**Q: Coder la fonction de perte (loss) `f` qui prend en paramètres la matrice X, y et $\\beta$.**"
   ]
  },
  {
   "cell_type": "code",
   "execution_count": 212,
   "id": "2cb936fc",
   "metadata": {},
   "outputs": [],
   "source": [
    "def f():\n",
    "    pass"
   ]
  },
  {
   "cell_type": "markdown",
   "id": "97ffaf94",
   "metadata": {},
   "source": [
    "On rappelle aussi que le gradient de $f$ est : $\\nabla f(\\beta) = X^T(X\\beta - y)$."
   ]
  },
  {
   "cell_type": "markdown",
   "id": "8c13a8d6",
   "metadata": {},
   "source": [
    "**Q: Coder la fonction  `grad_f` qui prend en paramètre la matrice X, y et $\\beta$**"
   ]
  },
  {
   "cell_type": "code",
   "execution_count": 213,
   "id": "f0629197",
   "metadata": {},
   "outputs": [],
   "source": [
    "def grad_f():\n",
    "    pass"
   ]
  },
  {
   "cell_type": "markdown",
   "id": "4f665782",
   "metadata": {
    "collapsed": true,
    "jupyter": {
     "outputs_hidden": true
    },
    "tags": []
   },
   "source": [
    "Maintenant, codons la descente de gradient, on rappelle que le passage de l'algorithme de l'étape $m$ à $m+1$ est donné par :\n",
    "$$\n",
    "\\beta^{(m+1)} = \\beta^{(m)} - \\tau \\nabla f(\\beta^{(m)}),\n",
    "$$\n",
    "où $\\tau$ est le pas de la descente."
   ]
  },
  {
   "cell_type": "markdown",
   "id": "a8ad2c27",
   "metadata": {},
   "source": [
    "**Q : Coder la fonction `Reg_lin_desc_grad` qui prend en entrée :`X`,`y`, `w` (initialisation de beta), `tau`, `n_iter` (le nombre d'itérations maximum), `tol` (la tolérance de la convergence).**\n",
    "\n",
    "Dans un second temps, cette fonction doit aussi afficher l'evolution de l'erreur d'entraînement comme une fonction du nombre d'itération."
   ]
  },
  {
   "cell_type": "code",
   "execution_count": 214,
   "id": "3d58f4a8",
   "metadata": {},
   "outputs": [],
   "source": [
    "def Reg_lin_desc_grad(X,y,w,tau = 1/np.linalg.norm(X,2)**2 ,n_iter=50,tol = 1e3,plot=True):\n",
    "    pass"
   ]
  },
  {
   "cell_type": "markdown",
   "id": "232270d0",
   "metadata": {},
   "source": [
    "La variable `tau` définie en amont est donnée par un critère du controle de norme, il ne faut pas que le pas de l'algorithme dépasse  :\n",
    "$$\n",
    "\\tau_{max} = \\dfrac{2}{\\| X X^T\\|_{op}},\n",
    "$$\n",
    "avec $\\| .\\|_{op}$ est la valeur propre maximal."
   ]
  },
  {
   "cell_type": "markdown",
   "id": "cb3da956",
   "metadata": {},
   "source": [
    "**Q : Tester pour différentes valeurs de $\\tau$, que constatez-vous ?** (Convergence, estimation, etc.)"
   ]
  },
  {
   "cell_type": "code",
   "execution_count": null,
   "id": "88afba16-6b36-4c5b-918b-bd38ac14d251",
   "metadata": {},
   "outputs": [],
   "source": []
  },
  {
   "cell_type": "markdown",
   "id": "d5d895c2",
   "metadata": {
    "tags": []
   },
   "source": [
    "###  Scikit-Learn"
   ]
  },
  {
   "cell_type": "code",
   "execution_count": 215,
   "id": "15c9260c",
   "metadata": {},
   "outputs": [],
   "source": [
    "from sklearn.linear_model import LinearRegression\n",
    "Model_LinearReg = LinearRegression()"
   ]
  },
  {
   "cell_type": "markdown",
   "id": "7ff15ca3",
   "metadata": {},
   "source": [
    "**Q: Que contient cet objet ? Comment mettre à jour ses poids ? Que dire des paramètres ?**"
   ]
  },
  {
   "cell_type": "markdown",
   "id": "7b8e6a03",
   "metadata": {},
   "source": []
  },
  {
   "cell_type": "markdown",
   "id": "8e85b73a",
   "metadata": {
    "tags": []
   },
   "source": [
    "###  OLS / Gradient descent / Scikit-learn (learning time)"
   ]
  },
  {
   "cell_type": "markdown",
   "id": "e1b07850",
   "metadata": {},
   "source": [
    "Cette partie dépendra grandement de votre machine et de votre implémentation, toutefois elle permettra de vous faire une idée quant au choix de la méthode à privilégier."
   ]
  },
  {
   "cell_type": "code",
   "execution_count": 216,
   "id": "f720e408",
   "metadata": {},
   "outputs": [
    {
     "name": "stdout",
     "output_type": "stream",
     "text": [
      "Elapsed time is 0.000054 seconds.\n"
     ]
    }
   ],
   "source": [
    "from time import time \n",
    "t1 = time() \n",
    "#Quelque chose\n",
    "t2 = time()\n",
    "elapsed = t2 - t1 \n",
    "print('Elapsed time is %f seconds.' % elapsed) "
   ]
  },
  {
   "cell_type": "markdown",
   "id": "fce75632",
   "metadata": {},
   "source": [
    "**Q : Que fait le code ci-dessus ?**"
   ]
  },
  {
   "cell_type": "markdown",
   "id": "65ac8e22",
   "metadata": {},
   "source": []
  },
  {
   "cell_type": "markdown",
   "id": "f0904d05",
   "metadata": {},
   "source": [
    "**Q: Afficher l'évolution du temps de calcul en faisant varier le nombre d'individus dans le dataset  N = 100 : 100000 (pas logartihmique) et en laissant fixé p = 40.** "
   ]
  },
  {
   "cell_type": "code",
   "execution_count": null,
   "id": "3599d486",
   "metadata": {},
   "outputs": [],
   "source": []
  },
  {
   "cell_type": "markdown",
   "id": "42997943",
   "metadata": {},
   "source": [
    "**Q: Afficher l'évolution du temps de calcul en faisant varier le nombre de variables dans le dataset p = 40:5000 (pas logarithmique) et en laissant le nombre d'individus fixé N = 10000.**"
   ]
  },
  {
   "cell_type": "code",
   "execution_count": null,
   "id": "2afa46ad",
   "metadata": {},
   "outputs": [],
   "source": []
  },
  {
   "cell_type": "markdown",
   "id": "bcd8359c",
   "metadata": {
    "tags": []
   },
   "source": [
    "###  Gradient descent / Scikit-learn (performances)"
   ]
  },
  {
   "cell_type": "markdown",
   "id": "f3cd72b3",
   "metadata": {},
   "source": [
    "**Q: Comparer les performances de prédiction sur l'ensemble de test. Y a-t-il des différences ? Si oui, pourquoi ?**"
   ]
  },
  {
   "cell_type": "code",
   "execution_count": null,
   "id": "d4f1f13a",
   "metadata": {},
   "outputs": [],
   "source": []
  },
  {
   "cell_type": "markdown",
   "id": "99fcde26",
   "metadata": {
    "tags": []
   },
   "source": [
    "## Exercice 2 : Logistic Regression"
   ]
  },
  {
   "cell_type": "markdown",
   "id": "f74cb0e9",
   "metadata": {},
   "source": [
    "### Data Simulation"
   ]
  },
  {
   "cell_type": "code",
   "execution_count": 217,
   "id": "5b72ce2a",
   "metadata": {},
   "outputs": [],
   "source": [
    "n = 1000 # number of sample\n",
    "p = 2 # dimensionality\n",
    "omega = np.array([1,.5])*2.5 # offset \n",
    "n1 = int(n/2)\n",
    "X = np.vstack(( np.random.randn(n1,2), np.random.randn(n1,2)+np.ones([n1,1])*omega ))\n",
    "y = np.vstack(( np.ones([n1,1]), -np.ones([n1,1]) ))"
   ]
  },
  {
   "cell_type": "code",
   "execution_count": 218,
   "id": "7bf63426",
   "metadata": {},
   "outputs": [
    {
     "data": {
      "image/png": "[encoded data removed]",
      "text/plain": [
       "<Figure size 640x480 with 1 Axes>"
      ]
     },
     "metadata": {},
     "output_type": "display_data"
    }
   ],
   "source": [
    "I = find(y==-1)\n",
    "J = find(y==1)\n",
    "plt.clf\n",
    "plt.plot(X[I,0], X[I,1], '.')\n",
    "plt.plot(X[J,0], X[J,1], '.')\n",
    "plt.axis('equal');"
   ]
  },
  {
   "cell_type": "markdown",
   "id": "bac9d4ff",
   "metadata": {
    "tags": []
   },
   "source": [
    "###  Descente de gradient"
   ]
  },
  {
   "cell_type": "markdown",
   "id": "c28cff97",
   "metadata": {},
   "source": [
    "On rappelle que l'objectif de minimiser $g(\\beta) = \\dfrac{1}{n} \\sum_{i=1:n}  \\log(1 + e^{-yi \\langle X_i , \\beta \\rangle})$."
   ]
  },
  {
   "cell_type": "markdown",
   "id": "b19875cb",
   "metadata": {},
   "source": [
    "**Q: Coder la fonction de loss `g` qui prend en paramètre la matrice X, y et $\\beta$.**"
   ]
  },
  {
   "cell_type": "code",
   "execution_count": 219,
   "id": "131ace5c",
   "metadata": {},
   "outputs": [],
   "source": [
    "def g():\n",
    "    pass"
   ]
  },
  {
   "cell_type": "markdown",
   "id": "bc38a6f2",
   "metadata": {},
   "source": [
    "On rappelle aussi que le gradient de $g$ est : $$\\nabla g(\\beta) = \\dfrac{1}{n} X^T y \\odot \\sigma(- y \\ \\odot <X,\\beta>),$$\n",
    "où $\\odot$ est le produit élément par élément (* en python) et $\\sigma$ est la fonction sigmoide."
   ]
  },
  {
   "cell_type": "markdown",
   "id": "589fef39",
   "metadata": {},
   "source": [
    "**Q: Coder la fonction  `grad_g` qui prend en paramètre la matrice X, y et $\\beta$.**"
   ]
  },
  {
   "cell_type": "code",
   "execution_count": 220,
   "id": "600676db",
   "metadata": {},
   "outputs": [],
   "source": [
    "def grad_g():\n",
    "    pass"
   ]
  },
  {
   "cell_type": "markdown",
   "id": "506b9cdd",
   "metadata": {
    "collapsed": true,
    "jupyter": {
     "outputs_hidden": true
    },
    "tags": []
   },
   "source": [
    "Maintenant, codons la descente de gradient. On rappelle que le passage de l'algorithme de l'étape $m$ à $m+1$ est donné par :\n",
    "$$\n",
    "\\beta^{(m+1)} = \\beta^{(m)} - \\tau \\nabla g(\\beta^{(m)}),\n",
    "$$\n",
    "où $\\tau$ est le pas de la descente."
   ]
  },
  {
   "cell_type": "markdown",
   "id": "518f364b",
   "metadata": {},
   "source": [
    "**Q : Coder la fonction `Reg_log_desc_grad` qui prend en entrée :`X`,`y`, `w` (initialisation de beta), `tau`, `n_iter` (le nombre d'itérations maximum), `tol` (la tolérence de la convergence).**\n",
    "\n",
    "Dans un second temps, cette fonction doit aussi afficher l'évolution de l'erreur d'entraînement comme une fonction du nombre d'itération."
   ]
  },
  {
   "cell_type": "code",
   "execution_count": 221,
   "id": "f444c4f7",
   "metadata": {},
   "outputs": [],
   "source": [
    "def Reg_log_desc_grad(X,y,w,tau = 1/np.linalg.norm(X,2)**2 ,n_iter=50,tol = 1e3,plot=True):\n",
    "    pass"
   ]
  },
  {
   "cell_type": "markdown",
   "id": "d3ab7e2a",
   "metadata": {},
   "source": [
    "La variable `tau` définie en amont est donnée par un critère du contrôle de la norme, il ne faut pas que le pas de l'algorithme dépasse  :\n",
    "$\n",
    "\\tau_{max} = \\dfrac{2}{ 1/4\\| X \\|_{op}^2},\n",
    "$\n",
    "avec $\\| .\\|_{op}$ est la valeur propre maximale."
   ]
  },
  {
   "cell_type": "markdown",
   "id": "6fdafa9f",
   "metadata": {},
   "source": [
    "**Q : Tester différentes valeurs de $\\tau$, que constatez-vous ?** (Convergence, estimation, ...)"
   ]
  },
  {
   "cell_type": "code",
   "execution_count": null,
   "id": "7b9ac9dc-f8cc-4232-8223-5490e30afda0",
   "metadata": {},
   "outputs": [],
   "source": []
  },
  {
   "cell_type": "markdown",
   "id": "4c4c4171",
   "metadata": {
    "tags": []
   },
   "source": [
    "###  Scikit-Learn"
   ]
  },
  {
   "cell_type": "code",
   "execution_count": 222,
   "id": "9ca7aa26",
   "metadata": {},
   "outputs": [],
   "source": [
    "from sklearn.linear_model import LogisticRegression\n",
    "Model_LogReg = LogisticRegression()"
   ]
  },
  {
   "cell_type": "markdown",
   "id": "7dc8c620",
   "metadata": {},
   "source": [
    "**Q: Que contient cet objet ? Comment mettre à jour ses poids ? Que dire des paramètres ?**"
   ]
  },
  {
   "cell_type": "markdown",
   "id": "39629f73",
   "metadata": {},
   "source": []
  },
  {
   "cell_type": "markdown",
   "id": "79b0b39b",
   "metadata": {
    "tags": []
   },
   "source": [
    "###  Gradient descent / Scikit-learn (learning time)"
   ]
  },
  {
   "cell_type": "markdown",
   "id": "20ea0f10",
   "metadata": {},
   "source": [
    "Cette partie dépendra grandement de votre machine et de votre implémentation, toutefois elle permettra d'avoir des idées de quand utiliser un algorithme plutôt que l'autre."
   ]
  },
  {
   "cell_type": "markdown",
   "id": "ebd98302-3ab5-40bd-aa05-7fe3a7812d07",
   "metadata": {},
   "source": [
    "On pose $\\beta^\\star_j = (-1)^{j-1} \\exp(-(j-1)/10)$."
   ]
  },
  {
   "cell_type": "code",
   "execution_count": 223,
   "id": "48a10a58-7da2-45a6-9389-fe586789cea1",
   "metadata": {},
   "outputs": [
    {
     "data": {
      "text/plain": [
       "Text(0.5, 1.0, 'Parameters')"
      ]
     },
     "execution_count": 223,
     "metadata": {},
     "output_type": "execute_result"
    },
    {
     "data": {
      "image/png": "[encoded data removed]",
      "text/plain": [
       "<Figure size 640x480 with 1 Axes>"
      ]
     },
     "metadata": {},
     "output_type": "display_data"
    }
   ],
   "source": [
    "n_features = 40\n",
    "n_samples = 2000\n",
    "\n",
    "%matplotlib inline\n",
    "\n",
    "idx = np.arange(n_features)\n",
    "params = (-1) ** idx  * np.exp(-idx / 10.)\n",
    "params[20:] = 0.\n",
    "plt.stem(params)\n",
    "plt.title(\"Parameters\")"
   ]
  },
  {
   "cell_type": "code",
   "execution_count": 224,
   "id": "d24301b7-4520-49e4-b6c3-480c060fc260",
   "metadata": {},
   "outputs": [],
   "source": [
    "import numpy as np\n",
    "import copy\n",
    "def sigmoid(a):\n",
    "    x = copy.deepcopy(a)\n",
    "    if(x.size ==1) :\n",
    "        if x >= 0:\n",
    "            return 1.0 / (1.0 + np.exp(-x))\n",
    "        else : \n",
    "            # Utilisez la formule sigmoid(x) = 1 - sigmoid(-x) pour x < 0\n",
    "            return np.exp(x) / (1.0 + np.exp(x))\n",
    "        \n",
    "        \n",
    "    neg_part = find(x<=0)\n",
    "    pos_part = find(x>0)\n",
    "    if pos_part.size >= 0:\n",
    "        x[pos_part] = 1.0 / (1.0 + np.exp(-x[pos_part]))\n",
    "        \n",
    "    if neg_part.size >= 0: \n",
    "        x[neg_part] = np.exp(x[neg_part]) / (1.0 + np.exp(x[neg_part]))\n",
    "    \n",
    "    return x"
   ]
  },
  {
   "cell_type": "code",
   "execution_count": 225,
   "id": "8af7b936-80e4-4a90-9c2c-6388fb186b40",
   "metadata": {},
   "outputs": [
    {
     "name": "stderr",
     "output_type": "stream",
     "text": [
      "/tmp/ipykernel_5412/3800379213.py:2: DeprecationWarning: Please use `toeplitz` from the `scipy.linalg` namespace, the `scipy.linalg.special_matrices` namespace is deprecated.\n",
      "  from scipy.linalg.special_matrices import toeplitz\n"
     ]
    }
   ],
   "source": [
    "from numpy.random import multivariate_normal\n",
    "from scipy.linalg.special_matrices import toeplitz\n",
    "from numpy.random import binomial\n",
    "def simu_logreg(n_samples,params=params,rho=0.1):\n",
    "    \"\"\" simulation in a logistic regression model \n",
    "    \n",
    "    Parameters\n",
    "    ----------\n",
    "    coefs : `numpy.array`, shape=(n_features,)\n",
    "        Coefficients of the model\n",
    "    n_samples : `int`, \n",
    "        Number of samples to simulate\n",
    "    rho : `float`, default=0.1\n",
    "        Correlation of the features\n",
    "    Returns\n",
    "    -------\n",
    "    X : `numpy.ndarray`, shape=(n_samples, n_features)\n",
    "    Simulated features matrix. It samples of a centered Gaussian\n",
    "    vector with covariance given by the Toeplitz matrix\n",
    "    y : `numpy.array`, shape=(n_samples,)\n",
    "                 Simulated labels\n",
    "    \"\"\"\n",
    "    n_features = params.size\n",
    "    \n",
    "    cov = toeplitz(rho ** np.arange(0, n_features))\n",
    "    \n",
    "    features = multivariate_normal(np.zeros(n_features), cov, size=n_samples)\n",
    "    \n",
    "    pis = sigmoid(features.dot(params))\n",
    "    \n",
    "    labels = 2 * ( binomial(1,pis, n_samples) - 1)\n",
    "    \n",
    "    return((features,labels))"
   ]
  },
  {
   "cell_type": "code",
   "execution_count": 226,
   "id": "0dd9e275-5c88-4b1d-a76f-c53f8309d152",
   "metadata": {},
   "outputs": [
    {
     "name": "stdout",
     "output_type": "stream",
     "text": [
      "(2000,)\n",
      "(2000, 40)\n"
     ]
    }
   ],
   "source": [
    "X_perfs,y_perfs = simu_logreg(2000,params,rho = 0.1)\n",
    "print(y_perfs.shape)\n",
    "print(X_perfs.shape)"
   ]
  },
  {
   "cell_type": "markdown",
   "id": "237198c1-50f3-472a-84ea-8c2998cb882d",
   "metadata": {},
   "source": [
    "**Q: Que fait le code ci-dessus ? Détailler.**"
   ]
  },
  {
   "cell_type": "markdown",
   "id": "638c6d65-b4d2-444e-878e-e0261da1ebf1",
   "metadata": {},
   "source": []
  },
  {
   "cell_type": "markdown",
   "id": "1637ed9d-a2a9-4421-9474-80977049fb52",
   "metadata": {},
   "source": [
    "**Q: Afficher l'évolution du temps de calcul en fonction du nombre d'individus dans le dataset  N = 100 : 100000 et p = 40** "
   ]
  },
  {
   "cell_type": "code",
   "execution_count": null,
   "id": "19a29c2d-f14b-495e-9069-1e90f4538310",
   "metadata": {},
   "outputs": [],
   "source": []
  },
  {
   "cell_type": "markdown",
   "id": "8e4bdd52-3cb6-4cde-b29b-93d17906c088",
   "metadata": {},
   "source": [
    "**Q: Afficher l'évolution du temps de calcul en fonction de variables dans le dataset  N = 10000 et p = 40:5000**"
   ]
  },
  {
   "cell_type": "code",
   "execution_count": null,
   "id": "03d9739e-7d8d-42d1-a537-ea91e4601690",
   "metadata": {},
   "outputs": [],
   "source": []
  },
  {
   "cell_type": "markdown",
   "id": "e0c7fe4b",
   "metadata": {},
   "source": [
    "**Q: Afficher l'évolution du temps de calcul en faisant varier le nombre d'individus dans le dataset  N = 100 : 100000 (pas logartihmique) et en laissant fixé p = 40.**"
   ]
  },
  {
   "cell_type": "code",
   "execution_count": null,
   "id": "a7316c7b",
   "metadata": {},
   "outputs": [],
   "source": []
  },
  {
   "cell_type": "markdown",
   "id": "a3b7e55d",
   "metadata": {},
   "source": [
    "**Q: Afficher l'évolution du temps de calcul en faisant varier le nombre de variables dans le dataset p = 40:5000 (pas logarithmique) et en laissant le nombre d'individus fixé N = 10000.**"
   ]
  },
  {
   "cell_type": "code",
   "execution_count": null,
   "id": "f96bd175",
   "metadata": {},
   "outputs": [],
   "source": []
  },
  {
   "cell_type": "markdown",
   "id": "4cbd66e2",
   "metadata": {
    "tags": []
   },
   "source": [
    "###  Gradient descent / Scikit-learn (performances)"
   ]
  },
  {
   "cell_type": "markdown",
   "id": "1348ff26",
   "metadata": {},
   "source": [
    "**Q: Comparer les performances de prédiction sur l'ensemble de test. Y a-t-il des différences ? Si oui, pourquoi ?**"
   ]
  },
  {
   "cell_type": "code",
   "execution_count": null,
   "id": "bd03973b",
   "metadata": {},
   "outputs": [],
   "source": []
  },
  {
   "cell_type": "markdown",
   "id": "89b4d188",
   "metadata": {
    "tags": []
   },
   "source": [
    "###  Frontières de décision"
   ]
  },
  {
   "cell_type": "markdown",
   "id": "058c9575",
   "metadata": {},
   "source": [
    "En utilisant les fonctions de régression logistique (au choix : celle que vous avez implémentée ou celle de scikit-learn) on va maintenant tracer les frontières de décisions de notre modèle."
   ]
  },
  {
   "cell_type": "markdown",
   "id": "4e07c883",
   "metadata": {},
   "source": [
    "On génère une grille de points en 2D."
   ]
  },
  {
   "cell_type": "code",
   "execution_count": 227,
   "id": "9a4a8f1d",
   "metadata": {},
   "outputs": [],
   "source": [
    "q = 201\n",
    "tx = np.linspace( X[:,0].min(), X[:,0].max(),num=q) \n",
    "ty = np.linspace( X[:,1].min(), X[:,1].max(),num=q) \n",
    "[B,A] = np.meshgrid( ty,tx )\n",
    "G = np.vstack([A.flatten(), B.flatten()]).transpose()"
   ]
  },
  {
   "cell_type": "markdown",
   "id": "7ddfd4ba",
   "metadata": {},
   "source": [
    "**Q: Calculer les probabilités de classe associées à chacun des vecteurs composant la grille.**"
   ]
  },
  {
   "cell_type": "code",
   "execution_count": 228,
   "id": "fe4fe857",
   "metadata": {},
   "outputs": [],
   "source": [
    "proba_pred = ... "
   ]
  },
  {
   "cell_type": "code",
   "execution_count": 229,
   "id": "8ddc7ffe",
   "metadata": {},
   "outputs": [
    {
     "ename": "TypeError",
     "evalue": "'ellipsis' object is not subscriptable",
     "output_type": "error",
     "traceback": [
      "\u001b[0;31m---------------------------------------------------------------------------\u001b[0m",
      "\u001b[0;31mTypeError\u001b[0m                                 Traceback (most recent call last)",
      "Cell \u001b[0;32mIn[229], line 1\u001b[0m\n\u001b[0;32m----> 1\u001b[0m proba_class1 \u001b[38;5;241m=\u001b[39m \u001b[43mproba_pred\u001b[49m\u001b[43m[\u001b[49m\u001b[43m:\u001b[49m\u001b[43m,\u001b[49m\u001b[38;5;241;43m0\u001b[39;49m\u001b[43m]\u001b[49m\u001b[38;5;241m.\u001b[39mreshape(q,q)\n",
      "\u001b[0;31mTypeError\u001b[0m: 'ellipsis' object is not subscriptable"
     ]
    }
   ],
   "source": [
    "proba_class1 = proba_pred[:,0].reshape(q,q)"
   ]
  },
  {
   "cell_type": "code",
   "execution_count": null,
   "id": "bec5c484",
   "metadata": {},
   "outputs": [],
   "source": [
    "plt.clf\n",
    "plt.imshow(proba_class1.transpose(), origin=\"lower\",  extent=[tx.min(),tx.max(),ty.min(),ty.max()])\n",
    "plt.axis('equal')\n",
    "plt.plot(X[I,0], X[I,1], '.')\n",
    "plt.plot(X[J,0], X[J,1], '.')\n",
    "plt.axis('off');"
   ]
  },
  {
   "cell_type": "markdown",
   "id": "0667d0b1",
   "metadata": {},
   "source": [
    "## Exercice 3 : Penalized Regression"
   ]
  },
  {
   "cell_type": "code",
   "execution_count": null,
   "id": "a75ae158",
   "metadata": {
    "tags": []
   },
   "outputs": [],
   "source": [
    "help(LogisticRegression)\n",
    "help(LinearRegression)"
   ]
  },
  {
   "cell_type": "markdown",
   "id": "1ced8fe4",
   "metadata": {},
   "source": [
    "**Q: Dans l'aide, quel est l'argument qui permet de gérer la pénalité utilisée ?**"
   ]
  },
  {
   "cell_type": "markdown",
   "id": "53d46e5e",
   "metadata": {},
   "source": []
  },
  {
   "cell_type": "markdown",
   "id": "78314b8e",
   "metadata": {},
   "source": [
    "**Q: [Regression] Comparer les différentes pénalisations en termes de performances sur l'ensemble d'apprentissage et de test ainsi que sur l'estimation des coefficients. Commenter.**"
   ]
  },
  {
   "cell_type": "code",
   "execution_count": null,
   "id": "65045793",
   "metadata": {},
   "outputs": [],
   "source": []
  },
  {
   "cell_type": "code",
   "execution_count": null,
   "id": "0a908218",
   "metadata": {},
   "outputs": [],
   "source": []
  },
  {
   "cell_type": "code",
   "execution_count": null,
   "id": "38df73e7",
   "metadata": {},
   "outputs": [],
   "source": []
  },
  {
   "cell_type": "code",
   "execution_count": null,
   "id": "496c8022",
   "metadata": {},
   "outputs": [],
   "source": []
  },
  {
   "cell_type": "markdown",
   "id": "8c4ee6b7",
   "metadata": {},
   "source": [
    "**Q: [Classification] Comparer les différentes pénalisations en termes de performances sur l'ensemble d'apprentissage et de test ainsi que sur l'estimation des coefficients. Commenter.**"
   ]
  },
  {
   "cell_type": "code",
   "execution_count": null,
   "id": "d3d93fb0",
   "metadata": {},
   "outputs": [],
   "source": []
  },
  {
   "cell_type": "code",
   "execution_count": null,
   "id": "95a8e916",
   "metadata": {},
   "outputs": [],
   "source": []
  },
  {
   "cell_type": "code",
   "execution_count": null,
   "id": "df085d07",
   "metadata": {},
   "outputs": [],
   "source": []
  },
  {
   "cell_type": "code",
   "execution_count": null,
   "id": "cf131f16",
   "metadata": {},
   "outputs": [],
   "source": []
  },
  {
   "cell_type": "markdown",
   "id": "725521b4",
   "metadata": {},
   "source": [
    "**Q: Créer une procédure d'optimisation des hyper-paramètres.**"
   ]
  },
  {
   "cell_type": "code",
   "execution_count": null,
   "id": "db6e45ce",
   "metadata": {},
   "outputs": [],
   "source": []
  },
  {
   "cell_type": "markdown",
   "id": "e78d4dca",
   "metadata": {
    "tags": []
   },
   "source": [
    "## Exercice 4 : Decision Tree and random Forest"
   ]
  },
  {
   "cell_type": "markdown",
   "id": "59bfa76e",
   "metadata": {},
   "source": [
    "### Arbre de décision"
   ]
  },
  {
   "cell_type": "markdown",
   "id": "3072d70a",
   "metadata": {},
   "source": [
    "The DecisionTreeClassifier() of the library ‘tree’ implements the decision tree for classification."
   ]
  },
  {
   "cell_type": "code",
   "execution_count": null,
   "id": "948a008d",
   "metadata": {},
   "outputs": [],
   "source": [
    "from sklearn import tree\n",
    "from sklearn.tree import DecisionTreeClassifier"
   ]
  },
  {
   "cell_type": "markdown",
   "id": "ca4c8647",
   "metadata": {},
   "source": [
    "**Q: Quels sont les hyper-paramètres d'un arbre de décision ? Quelless sont les valeurs par défaut de `DecisionTreeClassifier()`?**"
   ]
  },
  {
   "cell_type": "markdown",
   "id": "0038e415",
   "metadata": {},
   "source": []
  },
  {
   "cell_type": "markdown",
   "id": "6cb2fc2c",
   "metadata": {},
   "source": [
    "**Q: Calculer la prédiction des classes associées à toutes les entrées de l'ensemble des données de la grille et visualiser les frontières de décision.**"
   ]
  },
  {
   "cell_type": "code",
   "execution_count": null,
   "id": "6098872f",
   "metadata": {},
   "outputs": [],
   "source": []
  },
  {
   "cell_type": "code",
   "execution_count": null,
   "id": "b4dc9bfe",
   "metadata": {},
   "outputs": [],
   "source": [
    "from sklearn.tree import export_text\n",
    "r = export_text(treefit); # treefit -> Model\n",
    "print(r)"
   ]
  },
  {
   "cell_type": "markdown",
   "id": "0d9496b6",
   "metadata": {},
   "source": [
    "**Q: Que fait le code ci-dessus ?**"
   ]
  },
  {
   "cell_type": "code",
   "execution_count": null,
   "id": "5781a109",
   "metadata": {},
   "outputs": [],
   "source": []
  },
  {
   "cell_type": "markdown",
   "id": "90e2a589",
   "metadata": {},
   "source": [
    "**Q: Créer une procédure d'optimisation des hyper-paramètres.**"
   ]
  },
  {
   "cell_type": "code",
   "execution_count": null,
   "id": "dcf7cf89",
   "metadata": {},
   "outputs": [],
   "source": []
  },
  {
   "cell_type": "markdown",
   "id": "47cda2e3",
   "metadata": {},
   "source": [
    "### Forêts aléatoires"
   ]
  },
  {
   "cell_type": "code",
   "execution_count": null,
   "id": "9f036853",
   "metadata": {},
   "outputs": [],
   "source": [
    "from sklearn.ensemble import RandomForestClassifier"
   ]
  },
  {
   "cell_type": "markdown",
   "id": "00bfbc00",
   "metadata": {},
   "source": [
    "**Q: Quels sont les hyper-paramètres d'un arbre de décision ? Quelles sont les valeurs par défaut de `DecisionTreeClassifier()`?**"
   ]
  },
  {
   "cell_type": "markdown",
   "id": "b3e6f7f2",
   "metadata": {},
   "source": []
  },
  {
   "cell_type": "markdown",
   "id": "b459b600",
   "metadata": {},
   "source": [
    "**Q: Calculer la prédiction des classes associées à toutes les entrées de l'ensemble de données de la grille et visualiser les frontières de décision.**"
   ]
  },
  {
   "cell_type": "code",
   "execution_count": null,
   "id": "1ea9d537",
   "metadata": {},
   "outputs": [],
   "source": []
  },
  {
   "cell_type": "markdown",
   "id": "ae8657a1",
   "metadata": {},
   "source": [
    "**Q: Créer une procédure d'optimisation des hyper-paramètres.**"
   ]
  },
  {
   "cell_type": "code",
   "execution_count": null,
   "id": "71ebab23",
   "metadata": {},
   "outputs": [],
   "source": []
  },
  {
   "cell_type": "markdown",
   "id": "bec28531",
   "metadata": {
    "tags": []
   },
   "source": [
    "## Exercice 5"
   ]
  },
  {
   "cell_type": "markdown",
   "id": "81fcc4e5",
   "metadata": {},
   "source": [
    "**Q: Appliquer tout ce que vous avez vu au cours de ce TP au dataset [Maternal Health Risk](https://archive.ics.uci.edu/dataset/863/maternal+health+risk).**"
   ]
  },
  {
   "cell_type": "code",
   "execution_count": null,
   "id": "a90e539a",
   "metadata": {},
   "outputs": [],
   "source": []
  },
  {
   "cell_type": "code",
   "execution_count": null,
   "id": "f4829371-a376-4e7d-95c2-b99e874c4a61",
   "metadata": {},
   "outputs": [],
   "source": []
  }
 ],
 "metadata": {
  "kernelspec": {
   "display_name": "Python 3 (ipykernel)",
   "language": "python",
   "name": "python3"
  },
  "language_info": {
   "codemirror_mode": {
    "name": "ipython",
    "version": 3
   },
   "file_extension": ".py",
   "mimetype": "text/x-python",
   "name": "python",
   "nbconvert_exporter": "python",
   "pygments_lexer": "ipython3",
   "version": "3.11.5"
  }
 },
 "nbformat": 4,
 "nbformat_minor": 5
}
