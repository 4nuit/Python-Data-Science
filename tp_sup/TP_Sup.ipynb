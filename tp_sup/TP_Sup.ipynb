{
 "cells": [
  {
   "cell_type": "markdown",
   "id": "42a8a2d3",
   "metadata": {},
   "source": [
    "# TP Supervised Learning"
   ]
  },
  {
   "cell_type": "markdown",
   "id": "554f6d58",
   "metadata": {},
   "source": [
    "Ce notebook est basé sur le numerical tour de *Gabriel Peyré* qui introduit les notions essentielles à la regression linéaire et logistique."
   ]
  },
  {
   "cell_type": "code",
   "execution_count": 1,
   "id": "0c8eeb9d",
   "metadata": {},
   "outputs": [],
   "source": [
    "import numpy as np\n",
    "import pandas as pd\n",
    "import matplotlib.pyplot as plt\n",
    "import seaborn as sns"
   ]
  },
  {
   "cell_type": "markdown",
   "id": "c7ec2e7a",
   "metadata": {},
   "source": [
    "Fonctions utiles :"
   ]
  },
  {
   "cell_type": "code",
   "execution_count": 19,
   "id": "4d8a2a34",
   "metadata": {},
   "outputs": [],
   "source": [
    "#  convert to a column vector\n",
    "def MakeCol(y): return y.reshape(-1,1)\n",
    "#  convert to a row vector\n",
    "def MakeRow(y): return y.reshape(1,-1)\n",
    "# find non zero/true elements\n",
    "def find(x): return np.nonzero(x)[0]"
   ]
  },
  {
   "cell_type": "markdown",
   "id": "8be3e45d",
   "metadata": {},
   "source": [
    "## Exercice 1 : Linear Regression"
   ]
  },
  {
   "cell_type": "markdown",
   "id": "aaa789cd",
   "metadata": {},
   "source": [
    "### Data Simulation"
   ]
  },
  {
   "cell_type": "markdown",
   "id": "8e8a95c2",
   "metadata": {},
   "source": [
    "Tout d'abord on simule un problème de régression."
   ]
  },
  {
   "cell_type": "code",
   "execution_count": 46,
   "id": "28c8f5a5",
   "metadata": {},
   "outputs": [],
   "source": [
    "from sklearn import datasets\n",
    "X, y, coef = datasets.make_regression(n_samples = 100, n_features = 10,\n",
    "                                n_informative = 4, n_targets = 1,\n",
    "                                noise = 10.0, coef = True)"
   ]
  },
  {
   "cell_type": "markdown",
   "id": "7a26f728",
   "metadata": {},
   "source": [
    "**Q: Que fait le code ci-dessus, que font les paramètres ?**"
   ]
  },
  {
   "cell_type": "markdown",
   "id": "346e9038",
   "metadata": {},
   "source": []
  },
  {
   "cell_type": "markdown",
   "id": "6f4f664f",
   "metadata": {},
   "source": [
    "**Q : Séparer le dataset en un ensemble d'apprentissage et de test.**"
   ]
  },
  {
   "cell_type": "code",
   "execution_count": null,
   "id": "ed4d6eb2",
   "metadata": {},
   "outputs": [],
   "source": []
  },
  {
   "cell_type": "markdown",
   "id": "3bb2c16f",
   "metadata": {},
   "source": [
    "**Q : Pourquoi n'utilise-t-on pas d'ensemble de validation ici ?**"
   ]
  },
  {
   "cell_type": "markdown",
   "id": "b328a592",
   "metadata": {},
   "source": []
  },
  {
   "cell_type": "markdown",
   "id": "f899c15e",
   "metadata": {
    "tags": []
   },
   "source": [
    "###  Least square solution"
   ]
  },
  {
   "cell_type": "markdown",
   "id": "11a723dd",
   "metadata": {},
   "source": [
    "On rappelle que l'estimateur des moindres carrés est donné par : $\\hat{\\beta} = (X^T X)^{-1} X^Ty $"
   ]
  },
  {
   "cell_type": "markdown",
   "id": "cf80ce90",
   "metadata": {},
   "source": [
    "**Q: Coder une fonction qui permet de calculer une estimation de celui-ci à partir des données.**"
   ]
  },
  {
   "cell_type": "code",
   "execution_count": 18,
   "id": "2668ab76",
   "metadata": {},
   "outputs": [],
   "source": [
    "def reg_OLS(X,y) :\n",
    "    pass"
   ]
  },
  {
   "cell_type": "markdown",
   "id": "75775ab8",
   "metadata": {},
   "source": [
    "**Q: Donner un avis sur les valeurs des paramètres. Que constate-t-on et pourquoi ?**"
   ]
  },
  {
   "cell_type": "markdown",
   "id": "657b2d9c",
   "metadata": {},
   "source": []
  },
  {
   "cell_type": "markdown",
   "id": "8846fa4b",
   "metadata": {},
   "source": [
    "**Q: Créer une fonction `reg_lin` qui permet de prédire les labels `y` pour de nouvelles données `X`.**"
   ]
  },
  {
   "cell_type": "code",
   "execution_count": null,
   "id": "8711f795",
   "metadata": {},
   "outputs": [],
   "source": [
    "def reg_lin():\n",
    "    pass"
   ]
  },
  {
   "cell_type": "markdown",
   "id": "476d2a02",
   "metadata": {},
   "source": [
    "**Q : Tester sur l'ensemble de test. Quel taux d'erreur avez-vous ? Que pouvez-vous dire ?**"
   ]
  },
  {
   "cell_type": "code",
   "execution_count": null,
   "id": "1faea49a",
   "metadata": {},
   "outputs": [],
   "source": []
  },
  {
   "cell_type": "markdown",
   "id": "0aed6e52",
   "metadata": {
    "tags": []
   },
   "source": [
    "###  Descente de gradient"
   ]
  },
  {
   "cell_type": "markdown",
   "id": "483827ef",
   "metadata": {},
   "source": [
    "On rappelle que l'objectif est de minimiser $f(\\beta) = \\frac{1}{2} \\| X\\beta - y \\|^2$"
   ]
  },
  {
   "cell_type": "markdown",
   "id": "69f42e80",
   "metadata": {},
   "source": [
    "**Q: Coder la fonction de perte (loss) `f` qui prend en paramètres la matrice X, y et $\\beta$.**"
   ]
  },
  {
   "cell_type": "code",
   "execution_count": null,
   "id": "2cb936fc",
   "metadata": {},
   "outputs": [],
   "source": [
    "def f():\n",
    "    pass"
   ]
  },
  {
   "cell_type": "markdown",
   "id": "97ffaf94",
   "metadata": {},
   "source": [
    "On rappelle aussi que le gradient de $f$ est : $\\nabla f(\\beta) = X^T(X\\beta - y)$."
   ]
  },
  {
   "cell_type": "markdown",
   "id": "8c13a8d6",
   "metadata": {},
   "source": [
    "**Q: Coder la fonction  `grad_f` qui prend en paramètre la matrice X, y et $\\beta$**"
   ]
  },
  {
   "cell_type": "code",
   "execution_count": null,
   "id": "f0629197",
   "metadata": {},
   "outputs": [],
   "source": [
    "def grad_f():\n",
    "    pass"
   ]
  },
  {
   "cell_type": "markdown",
   "id": "4f665782",
   "metadata": {
    "jupyter": {
     "outputs_hidden": true
    },
    "tags": []
   },
   "source": [
    "Maintenant, codons la descente de gradient, on rappelle que le passage de l'algorithme de l'étape $m$ à $m+1$ est donné par :\n",
    "$$\n",
    "\\beta^{(m+1)} = \\beta^{(m)} - \\tau \\nabla f(\\beta^{(m)}),\n",
    "$$\n",
    "où $\\tau$ est le pas de la descente."
   ]
  },
  {
   "cell_type": "markdown",
   "id": "a8ad2c27",
   "metadata": {},
   "source": [
    "**Q : Coder la fonction `Reg_lin_desc_grad` qui prend en entrée :`X`,`y`, `w` (initialisation de beta), `tau`, `n_iter` (le nombre d'itérations maximum), `tol` (la tolérance de la convergence).**\n",
    "\n",
    "Dans un second temps, cette fonction doit aussi afficher l'evolution de l'erreur d'entraînement comme une fonction du nombre d'itération."
   ]
  },
  {
   "cell_type": "code",
   "execution_count": 52,
   "id": "3d58f4a8",
   "metadata": {},
   "outputs": [],
   "source": [
    "def Reg_lin_desc_grad(X,y,w,tau = 1/np.linalg.norm(X,2)**2 ,n_iter=50,tol = 1e3,plot=True):\n",
    "    pass"
   ]
  },
  {
   "cell_type": "markdown",
   "id": "232270d0",
   "metadata": {},
   "source": [
    "La variable `tau` définie en amont est donnée par un critère du controle de norme, il ne faut pas que le pas de l'algorithme dépasse  :\n",
    "$$\n",
    "\\tau_{max} = \\dfrac{2}{\\| X X^T\\|_{op}},\n",
    "$$\n",
    "avec $\\| .\\|_{op}$ est la valeur propre maximal."
   ]
  },
  {
   "cell_type": "markdown",
   "id": "cb3da956",
   "metadata": {},
   "source": [
    "**Q : Tester pour différentes valeurs de $\\tau$, que constatez-vous ?** (Convergence, estimation, etc.)"
   ]
  },
  {
   "cell_type": "code",
   "execution_count": null,
   "id": "88afba16-6b36-4c5b-918b-bd38ac14d251",
   "metadata": {},
   "outputs": [],
   "source": []
  },
  {
   "cell_type": "markdown",
   "id": "d5d895c2",
   "metadata": {
    "tags": []
   },
   "source": [
    "###  Scikit-Learn"
   ]
  },
  {
   "cell_type": "code",
   "execution_count": 50,
   "id": "15c9260c",
   "metadata": {},
   "outputs": [],
   "source": [
    "from sklearn.linear_model import LinearRegression\n",
    "Model_LinearReg = LinearRegression()"
   ]
  },
  {
   "cell_type": "markdown",
   "id": "7ff15ca3",
   "metadata": {},
   "source": [
    "**Q: Que contient cet objet ? Comment mettre à jour ses poids ? Que dire des paramètres ?**"
   ]
  },
  {
   "cell_type": "markdown",
   "id": "7b8e6a03",
   "metadata": {},
   "source": []
  },
  {
   "cell_type": "markdown",
   "id": "8e85b73a",
   "metadata": {
    "tags": []
   },
   "source": [
    "###  OLS / Gradient descent / Scikit-learn (learning time)"
   ]
  },
  {
   "cell_type": "markdown",
   "id": "e1b07850",
   "metadata": {},
   "source": [
    "Cette partie dépendra grandement de votre machine et de votre implémentation, toutefois elle permettra de vous faire une idée quant au choix de la méthode à privilégier."
   ]
  },
  {
   "cell_type": "code",
   "execution_count": 51,
   "id": "f720e408",
   "metadata": {},
   "outputs": [
    {
     "name": "stdout",
     "output_type": "stream",
     "text": [
      "Elapsed time is 0.023273 seconds.\n"
     ]
    }
   ],
   "source": [
    "from time import time \n",
    "t1 = time() \n",
    "#Quelque chose\n",
    "t2 = time()\n",
    "elapsed = t2 - t1 \n",
    "print('Elapsed time is %f seconds.' % elapsed) "
   ]
  },
  {
   "cell_type": "markdown",
   "id": "fce75632",
   "metadata": {},
   "source": [
    "**Q : Que fait le code ci-dessus ?**"
   ]
  },
  {
   "cell_type": "markdown",
   "id": "65ac8e22",
   "metadata": {},
   "source": []
  },
  {
   "cell_type": "markdown",
   "id": "f0904d05",
   "metadata": {},
   "source": [
    "**Q: Afficher l'évolution du temps de calcul en faisant varier le nombre d'individus dans le dataset  N = 100 : 100000 (pas logartihmique) et en laissant fixé p = 40.** "
   ]
  },
  {
   "cell_type": "code",
   "execution_count": null,
   "id": "3599d486",
   "metadata": {},
   "outputs": [],
   "source": []
  },
  {
   "cell_type": "markdown",
   "id": "42997943",
   "metadata": {},
   "source": [
    "**Q: Afficher l'évolution du temps de calcul en faisant varier le nombre de variables dans le dataset p = 40:5000 (pas logarithmique) et en laissant le nombre d'individus fixé N = 10000.**"
   ]
  },
  {
   "cell_type": "code",
   "execution_count": null,
   "id": "2afa46ad",
   "metadata": {},
   "outputs": [],
   "source": []
  },
  {
   "cell_type": "markdown",
   "id": "bcd8359c",
   "metadata": {
    "tags": []
   },
   "source": [
    "###  Gradient descent / Scikit-learn (performances)"
   ]
  },
  {
   "cell_type": "markdown",
   "id": "f3cd72b3",
   "metadata": {},
   "source": [
    "**Q: Comparer les performances de prédiction sur l'ensemble de test. Y a-t-il des différences ? Si oui, pourquoi ?**"
   ]
  },
  {
   "cell_type": "code",
   "execution_count": null,
   "id": "d4f1f13a",
   "metadata": {},
   "outputs": [],
   "source": []
  },
  {
   "cell_type": "markdown",
   "id": "99fcde26",
   "metadata": {
    "tags": []
   },
   "source": [
    "## Exercice 2 : Logistic Regression"
   ]
  },
  {
   "cell_type": "markdown",
   "id": "f74cb0e9",
   "metadata": {},
   "source": [
    "### Data Simulation"
   ]
  },
  {
   "cell_type": "code",
   "execution_count": 78,
   "id": "5b72ce2a",
   "metadata": {},
   "outputs": [],
   "source": [
    "n = 1000 # number of sample\n",
    "p = 2 # dimensionality\n",
    "omega = np.array([1,.5])*2.5 # offset \n",
    "n1 = int(n/2)\n",
    "X = np.vstack(( np.random.randn(n1,2), np.random.randn(n1,2)+np.ones([n1,1])*omega ))\n",
    "y = np.vstack(( np.ones([n1,1]), -np.ones([n1,1]) ))"
   ]
  },
  {
   "cell_type": "code",
   "execution_count": 79,
   "id": "7bf63426",
   "metadata": {},
   "outputs": [
    {
     "data": {
      "image/png": "[encoded data removed]",
      "text/plain": [
       "<Figure size 432x288 with 1 Axes>"
      ]
     },
     "metadata": {
      "needs_background": "light"
     },
     "output_type": "display_data"
    }
   ],
   "source": [
    "I = find(y==-1)\n",
    "J = find(y==1)\n",
    "plt.clf\n",
    "plt.plot(X[I,0], X[I,1], '.')\n",
    "plt.plot(X[J,0], X[J,1], '.')\n",
    "plt.axis('equal');"
   ]
  },
  {
   "cell_type": "markdown",
   "id": "bac9d4ff",
   "metadata": {
    "tags": []
   },
   "source": [
    "###  Descente de gradient"
   ]
  },
  {
   "cell_type": "markdown",
   "id": "c28cff97",
   "metadata": {},
   "source": [
    "On rappelle que l'objectif de minimiser $g(\\beta) = \\dfrac{1}{n} \\sum_{i=1:n}  \\log(1 + e^{-yi \\langle X_i , \\beta \\rangle})$."
   ]
  },
  {
   "cell_type": "markdown",
   "id": "b19875cb",
   "metadata": {},
   "source": [
    "**Q: Coder la fonction de loss `g` qui prend en paramètre la matrice X, y et $\\beta$.**"
   ]
  },
  {
   "cell_type": "code",
   "execution_count": 92,
   "id": "131ace5c",
   "metadata": {},
   "outputs": [],
   "source": [
    "def g():\n",
    "    pass"
   ]
  },
  {
   "cell_type": "markdown",
   "id": "bc38a6f2",
   "metadata": {},
   "source": [
    "On rappelle aussi que le gradient de $g$ est : $$\\nabla g(\\beta) = \\dfrac{1}{n} X^T y \\odot \\sigma(- y \\ \\odot <X,\\beta>),$$\n",
    "où $\\odot$ est le produit élément par élément (* en python) et $\\sigma$ est la fonction sigmoide."
   ]
  },
  {
   "cell_type": "markdown",
   "id": "589fef39",
   "metadata": {},
   "source": [
    "**Q: Coder la fonction  `grad_g` qui prend en paramètre la matrice X, y et $\\beta$.**"
   ]
  },
  {
   "cell_type": "code",
   "execution_count": null,
   "id": "600676db",
   "metadata": {},
   "outputs": [],
   "source": [
    "def grad_g():\n",
    "    pass"
   ]
  },
  {
   "cell_type": "markdown",
   "id": "506b9cdd",
   "metadata": {
    "jupyter": {
     "outputs_hidden": true
    },
    "tags": []
   },
   "source": [
    "Maintenant, codons la descente de gradient. On rappelle que le passage de l'algorithme de l'étape $m$ à $m+1$ est donné par :\n",
    "$$\n",
    "\\beta^{(m+1)} = \\beta^{(m)} - \\tau \\nabla g(\\beta^{(m)}),\n",
    "$$\n",
    "où $\\tau$ est le pas de la descente."
   ]
  },
  {
   "cell_type": "markdown",
   "id": "518f364b",
   "metadata": {},
   "source": [
    "**Q : Coder la fonction `Reg_log_desc_grad` qui prend en entrée :`X`,`y`, `w` (initialisation de beta), `tau`, `n_iter` (le nombre d'itérations maximum), `tol` (la tolérence de la convergence).**\n",
    "\n",
    "Dans un second temps, cette fonction doit aussi afficher l'évolution de l'erreur d'entraînement comme une fonction du nombre d'itération."
   ]
  },
  {
   "cell_type": "code",
   "execution_count": 56,
   "id": "f444c4f7",
   "metadata": {},
   "outputs": [],
   "source": [
    "def Reg_log_desc_grad(X,y,w,tau = 1/np.linalg.norm(X,2)**2 ,n_iter=50,tol = 1e3,plot=True):\n",
    "    pass"
   ]
  },
  {
   "cell_type": "markdown",
   "id": "d3ab7e2a",
   "metadata": {},
   "source": [
    "La variable `tau` définie en amont est donnée par un critère du contrôle de la norme, il ne faut pas que le pas de l'algorithme dépasse  :\n",
    "$\n",
    "\\tau_{max} = \\dfrac{2}{ 1/4\\| X \\|_{op}^2},\n",
    "$\n",
    "avec $\\| .\\|_{op}$ est la valeur propre maximale."
   ]
  },
  {
   "cell_type": "markdown",
   "id": "6fdafa9f",
   "metadata": {},
   "source": [
    "**Q : Tester différentes valeurs de $\\tau$, que constatez-vous ?** (Convergence, estimation, ...)"
   ]
  },
  {
   "cell_type": "code",
   "execution_count": null,
   "id": "7b9ac9dc-f8cc-4232-8223-5490e30afda0",
   "metadata": {},
   "outputs": [],
   "source": []
  },
  {
   "cell_type": "markdown",
   "id": "4c4c4171",
   "metadata": {
    "tags": []
   },
   "source": [
    "###  Scikit-Learn"
   ]
  },
  {
   "cell_type": "code",
   "execution_count": 58,
   "id": "9ca7aa26",
   "metadata": {},
   "outputs": [],
   "source": [
    "from sklearn.linear_model import LogisticRegression\n",
    "Model_LogReg = LogisticRegression()"
   ]
  },
  {
   "cell_type": "markdown",
   "id": "7dc8c620",
   "metadata": {},
   "source": [
    "**Q: Que contient cet objet ? Comment mettre à jour ses poids ? Que dire des paramètres ?**"
   ]
  },
  {
   "cell_type": "markdown",
   "id": "39629f73",
   "metadata": {},
   "source": []
  },
  {
   "cell_type": "markdown",
   "id": "79b0b39b",
   "metadata": {
    "tags": []
   },
   "source": [
    "###  Gradient descent / Scikit-learn (learning time)"
   ]
  },
  {
   "cell_type": "markdown",
   "id": "20ea0f10",
   "metadata": {},
   "source": [
    "Cette partie dépendra grandement de votre machine et de votre implémentation, toutefois elle permettra d'avoir des idées de quand utiliser un algorithme plutôt que l'autre."
   ]
  },
  {
   "cell_type": "markdown",
   "id": "ebd98302-3ab5-40bd-aa05-7fe3a7812d07",
   "metadata": {},
   "source": [
    "On pose $\\beta^\\star_j = (-1)^{j-1} \\exp(-(j-1)/10)$."
   ]
  },
  {
   "cell_type": "code",
   "execution_count": 3,
   "id": "48a10a58-7da2-45a6-9389-fe586789cea1",
   "metadata": {},
   "outputs": [
    {
     "data": {
      "text/plain": [
       "Text(0.5, 1.0, 'Parameters')"
      ]
     },
     "execution_count": 3,
     "metadata": {},
     "output_type": "execute_result"
    },
    {
     "data": {
      "image/png": "[encoded data removed]",
      "text/plain": [
       "<Figure size 432x288 with 1 Axes>"
      ]
     },
     "metadata": {
      "needs_background": "light"
     },
     "output_type": "display_data"
    }
   ],
   "source": [
    "n_features = 40\n",
    "n_samples = 2000\n",
    "\n",
    "%matplotlib inline\n",
    "\n",
    "idx = np.arange(n_features)\n",
    "params = (-1) ** idx  * np.exp(-idx / 10.)\n",
    "params[20:] = 0.\n",
    "plt.stem(params)\n",
    "plt.title(\"Parameters\")"
   ]
  },
  {
   "cell_type": "code",
   "execution_count": 4,
   "id": "d24301b7-4520-49e4-b6c3-480c060fc260",
   "metadata": {},
   "outputs": [],
   "source": [
    "import numpy as np\n",
    "import copy\n",
    "def sigmoid(a):\n",
    "    x = copy.deepcopy(a)\n",
    "    if(x.size ==1) :\n",
    "        if x >= 0:\n",
    "            return 1.0 / (1.0 + np.exp(-x))\n",
    "        else : \n",
    "            # Utilisez la formule sigmoid(x) = 1 - sigmoid(-x) pour x < 0\n",
    "            return np.exp(x) / (1.0 + np.exp(x))\n",
    "        \n",
    "        \n",
    "    neg_part = find(x<=0)\n",
    "    pos_part = find(x>0)\n",
    "    if pos_part.size >= 0:\n",
    "        x[pos_part] = 1.0 / (1.0 + np.exp(-x[pos_part]))\n",
    "        \n",
    "    if neg_part.size >= 0: \n",
    "        x[neg_part] = np.exp(x[neg_part]) / (1.0 + np.exp(x[neg_part]))\n",
    "    \n",
    "    return x"
   ]
  },
  {
   "cell_type": "code",
   "execution_count": 5,
   "id": "8af7b936-80e4-4a90-9c2c-6388fb186b40",
   "metadata": {},
   "outputs": [],
   "source": [
    "from numpy.random import multivariate_normal\n",
    "from scipy.linalg.special_matrices import toeplitz\n",
    "from numpy.random import binomial\n",
    "def simu_logreg(n_samples,params=params,rho=0.1):\n",
    "    \"\"\" simulation in a logistic regression model \n",
    "    \n",
    "    Parameters\n",
    "    ----------\n",
    "    coefs : `numpy.array`, shape=(n_features,)\n",
    "        Coefficients of the model\n",
    "    n_samples : `int`, \n",
    "        Number of samples to simulate\n",
    "    rho : `float`, default=0.1\n",
    "        Correlation of the features\n",
    "    Returns\n",
    "    -------\n",
    "    X : `numpy.ndarray`, shape=(n_samples, n_features)\n",
    "    Simulated features matrix. It samples of a centered Gaussian\n",
    "    vector with covariance given by the Toeplitz matrix\n",
    "    y : `numpy.array`, shape=(n_samples,)\n",
    "                 Simulated labels\n",
    "    \"\"\"\n",
    "    n_features = params.size\n",
    "    \n",
    "    cov = toeplitz(rho ** np.arange(0, n_features))\n",
    "    \n",
    "    features = multivariate_normal(np.zeros(n_features), cov, size=n_samples)\n",
    "    \n",
    "    pis = sigmoid(features.dot(params))\n",
    "    \n",
    "    labels = 2 * ( binomial(1,pis, n_samples) - 1)\n",
    "    \n",
    "    return((features,labels))"
   ]
  },
  {
   "cell_type": "code",
   "execution_count": 6,
   "id": "0dd9e275-5c88-4b1d-a76f-c53f8309d152",
   "metadata": {},
   "outputs": [
    {
     "name": "stdout",
     "output_type": "stream",
     "text": [
      "(2000,)\n",
      "(2000, 40)\n"
     ]
    }
   ],
   "source": [
    "X_perfs,y_perfs = simu_logreg(2000,params,rho = 0.1)\n",
    "print(y_perfs.shape)\n",
    "print(X_perfs.shape)"
   ]
  },
  {
   "cell_type": "markdown",
   "id": "237198c1-50f3-472a-84ea-8c2998cb882d",
   "metadata": {},
   "source": [
    "**Q: Que fait le code ci-dessus ? Détailler.**"
   ]
  },
  {
   "cell_type": "markdown",
   "id": "638c6d65-b4d2-444e-878e-e0261da1ebf1",
   "metadata": {},
   "source": []
  },
  {
   "cell_type": "markdown",
   "id": "1637ed9d-a2a9-4421-9474-80977049fb52",
   "metadata": {},
   "source": [
    "**Q: Afficher l'évolution du temps de calcul en fonction du nombre d'individus dans le dataset  N = 100 : 100000 et p = 40** "
   ]
  },
  {
   "cell_type": "code",
   "execution_count": null,
   "id": "19a29c2d-f14b-495e-9069-1e90f4538310",
   "metadata": {},
   "outputs": [],
   "source": []
  },
  {
   "cell_type": "markdown",
   "id": "8e4bdd52-3cb6-4cde-b29b-93d17906c088",
   "metadata": {},
   "source": [
    "**Q: Afficher l'évolution du temps de calcul en fonction de variables dans le dataset  N = 10000 et p = 40:5000**"
   ]
  },
  {
   "cell_type": "code",
   "execution_count": null,
   "id": "03d9739e-7d8d-42d1-a537-ea91e4601690",
   "metadata": {},
   "outputs": [],
   "source": []
  },
  {
   "cell_type": "markdown",
   "id": "e0c7fe4b",
   "metadata": {},
   "source": [
    "**Q: Afficher l'évolution du temps de calcul en faisant varier le nombre d'individus dans le dataset  N = 100 : 100000 (pas logartihmique) et en laissant fixé p = 40.**"
   ]
  },
  {
   "cell_type": "code",
   "execution_count": null,
   "id": "a7316c7b",
   "metadata": {},
   "outputs": [],
   "source": []
  },
  {
   "cell_type": "markdown",
   "id": "a3b7e55d",
   "metadata": {},
   "source": [
    "**Q: Afficher l'évolution du temps de calcul en faisant varier le nombre de variables dans le dataset p = 40:5000 (pas logarithmique) et en laissant le nombre d'individus fixé N = 10000.**"
   ]
  },
  {
   "cell_type": "code",
   "execution_count": null,
   "id": "f96bd175",
   "metadata": {},
   "outputs": [],
   "source": []
  },
  {
   "cell_type": "markdown",
   "id": "4cbd66e2",
   "metadata": {
    "tags": []
   },
   "source": [
    "###  Gradient descent / Scikit-learn (performances)"
   ]
  },
  {
   "cell_type": "markdown",
   "id": "1348ff26",
   "metadata": {},
   "source": [
    "**Q: Comparer les performances de prédiction sur l'ensemble de test. Y a-t-il des différences ? Si oui, pourquoi ?**"
   ]
  },
  {
   "cell_type": "code",
   "execution_count": null,
   "id": "bd03973b",
   "metadata": {},
   "outputs": [],
   "source": []
  },
  {
   "cell_type": "markdown",
   "id": "89b4d188",
   "metadata": {
    "tags": []
   },
   "source": [
    "###  Frontières de décision"
   ]
  },
  {
   "cell_type": "markdown",
   "id": "058c9575",
   "metadata": {},
   "source": [
    "En utilisant les fonctions de régression logistique (au choix : celle que vous avez implémentée ou celle de scikit-learn) on va maintenant tracer les frontières de décisions de notre modèle."
   ]
  },
  {
   "cell_type": "markdown",
   "id": "4e07c883",
   "metadata": {},
   "source": [
    "On génère une grille de points en 2D."
   ]
  },
  {
   "cell_type": "code",
   "execution_count": 76,
   "id": "9a4a8f1d",
   "metadata": {},
   "outputs": [],
   "source": [
    "q = 201\n",
    "tx = np.linspace( X[:,0].min(), X[:,0].max(),num=q) \n",
    "ty = np.linspace( X[:,1].min(), X[:,1].max(),num=q) \n",
    "[B,A] = np.meshgrid( ty,tx )\n",
    "G = np.vstack([A.flatten(), B.flatten()]).transpose()"
   ]
  },
  {
   "cell_type": "markdown",
   "id": "7ddfd4ba",
   "metadata": {},
   "source": [
    "**Q: Calculer les probabilités de classe associées à chacun des vecteurs composant la grille.**"
   ]
  },
  {
   "cell_type": "code",
   "execution_count": null,
   "id": "fe4fe857",
   "metadata": {},
   "outputs": [],
   "source": [
    "proba_pred = ... "
   ]
  },
  {
   "cell_type": "code",
   "execution_count": 86,
   "id": "8ddc7ffe",
   "metadata": {},
   "outputs": [],
   "source": [
    "proba_class1 = proba_pred[:,0].reshape(q,q)"
   ]
  },
  {
   "cell_type": "code",
   "execution_count": 91,
   "id": "bec5c484",
   "metadata": {},
   "outputs": [
    {
     "data": {
      "image/png": "[encoded data removed]",
      "text/plain": [
       "<Figure size 432x288 with 1 Axes>"
      ]
     },
     "metadata": {
      "needs_background": "light"
     },
     "output_type": "display_data"
    }
   ],
   "source": [
    "plt.clf\n",
    "plt.imshow(proba_class1.transpose(), origin=\"lower\",  extent=[tx.min(),tx.max(),ty.min(),ty.max()])\n",
    "plt.axis('equal')\n",
    "plt.plot(X[I,0], X[I,1], '.')\n",
    "plt.plot(X[J,0], X[J,1], '.')\n",
    "plt.axis('off');"
   ]
  },
  {
   "cell_type": "markdown",
   "id": "0667d0b1",
   "metadata": {},
   "source": [
    "## Exercice 3 : Penalized Regression"
   ]
  },
  {
   "cell_type": "code",
   "execution_count": 95,
   "id": "a75ae158",
   "metadata": {
    "collapsed": true,
    "jupyter": {
     "outputs_hidden": true
    },
    "tags": []
   },
   "outputs": [
    {
     "name": "stdout",
     "output_type": "stream",
     "text": [
      "Help on class LogisticRegression in module sklearn.linear_model._logistic:\n",
      "\n",
      "class LogisticRegression(sklearn.linear_model._base.LinearClassifierMixin, sklearn.linear_model._base.SparseCoefMixin, sklearn.base.BaseEstimator)\n",
      " |  LogisticRegression(penalty='l2', *, dual=False, tol=0.0001, C=1.0, fit_intercept=True, intercept_scaling=1, class_weight=None, random_state=None, solver='lbfgs', max_iter=100, multi_class='auto', verbose=0, warm_start=False, n_jobs=None, l1_ratio=None)\n",
      " |  \n",
      " |  Logistic Regression (aka logit, MaxEnt) classifier.\n",
      " |  \n",
      " |  In the multiclass case, the training algorithm uses the one-vs-rest (OvR)\n",
      " |  scheme if the 'multi_class' option is set to 'ovr', and uses the\n",
      " |  cross-entropy loss if the 'multi_class' option is set to 'multinomial'.\n",
      " |  (Currently the 'multinomial' option is supported only by the 'lbfgs',\n",
      " |  'sag', 'saga' and 'newton-cg' solvers.)\n",
      " |  \n",
      " |  This class implements regularized logistic regression using the\n",
      " |  'liblinear' library, 'newton-cg', 'sag', 'saga' and 'lbfgs' solvers. **Note\n",
      " |  that regularization is applied by default**. It can handle both dense\n",
      " |  and sparse input. Use C-ordered arrays or CSR matrices containing 64-bit\n",
      " |  floats for optimal performance; any other input format will be converted\n",
      " |  (and copied).\n",
      " |  \n",
      " |  The 'newton-cg', 'sag', and 'lbfgs' solvers support only L2 regularization\n",
      " |  with primal formulation, or no regularization. The 'liblinear' solver\n",
      " |  supports both L1 and L2 regularization, with a dual formulation only for\n",
      " |  the L2 penalty. The Elastic-Net regularization is only supported by the\n",
      " |  'saga' solver.\n",
      " |  \n",
      " |  Read more in the :ref:`User Guide <logistic_regression>`.\n",
      " |  \n",
      " |  Parameters\n",
      " |  ----------\n",
      " |  penalty : {'l1', 'l2', 'elasticnet', 'none'}, default='l2'\n",
      " |      Used to specify the norm used in the penalization. The 'newton-cg',\n",
      " |      'sag' and 'lbfgs' solvers support only l2 penalties. 'elasticnet' is\n",
      " |      only supported by the 'saga' solver. If 'none' (not supported by the\n",
      " |      liblinear solver), no regularization is applied.\n",
      " |  \n",
      " |      .. versionadded:: 0.19\n",
      " |         l1 penalty with SAGA solver (allowing 'multinomial' + L1)\n",
      " |  \n",
      " |  dual : bool, default=False\n",
      " |      Dual or primal formulation. Dual formulation is only implemented for\n",
      " |      l2 penalty with liblinear solver. Prefer dual=False when\n",
      " |      n_samples > n_features.\n",
      " |  \n",
      " |  tol : float, default=1e-4\n",
      " |      Tolerance for stopping criteria.\n",
      " |  \n",
      " |  C : float, default=1.0\n",
      " |      Inverse of regularization strength; must be a positive float.\n",
      " |      Like in support vector machines, smaller values specify stronger\n",
      " |      regularization.\n",
      " |  \n",
      " |  fit_intercept : bool, default=True\n",
      " |      Specifies if a constant (a.k.a. bias or intercept) should be\n",
      " |      added to the decision function.\n",
      " |  \n",
      " |  intercept_scaling : float, default=1\n",
      " |      Useful only when the solver 'liblinear' is used\n",
      " |      and self.fit_intercept is set to True. In this case, x becomes\n",
      " |      [x, self.intercept_scaling],\n",
      " |      i.e. a \"synthetic\" feature with constant value equal to\n",
      " |      intercept_scaling is appended to the instance vector.\n",
      " |      The intercept becomes ``intercept_scaling * synthetic_feature_weight``.\n",
      " |  \n",
      " |      Note! the synthetic feature weight is subject to l1/l2 regularization\n",
      " |      as all other features.\n",
      " |      To lessen the effect of regularization on synthetic feature weight\n",
      " |      (and therefore on the intercept) intercept_scaling has to be increased.\n",
      " |  \n",
      " |  class_weight : dict or 'balanced', default=None\n",
      " |      Weights associated with classes in the form ``{class_label: weight}``.\n",
      " |      If not given, all classes are supposed to have weight one.\n",
      " |  \n",
      " |      The \"balanced\" mode uses the values of y to automatically adjust\n",
      " |      weights inversely proportional to class frequencies in the input data\n",
      " |      as ``n_samples / (n_classes * np.bincount(y))``.\n",
      " |  \n",
      " |      Note that these weights will be multiplied with sample_weight (passed\n",
      " |      through the fit method) if sample_weight is specified.\n",
      " |  \n",
      " |      .. versionadded:: 0.17\n",
      " |         *class_weight='balanced'*\n",
      " |  \n",
      " |  random_state : int, RandomState instance, default=None\n",
      " |      Used when ``solver`` == 'sag', 'saga' or 'liblinear' to shuffle the\n",
      " |      data. See :term:`Glossary <random_state>` for details.\n",
      " |  \n",
      " |  solver : {'newton-cg', 'lbfgs', 'liblinear', 'sag', 'saga'},             default='lbfgs'\n",
      " |  \n",
      " |      Algorithm to use in the optimization problem.\n",
      " |  \n",
      " |      - For small datasets, 'liblinear' is a good choice, whereas 'sag' and\n",
      " |        'saga' are faster for large ones.\n",
      " |      - For multiclass problems, only 'newton-cg', 'sag', 'saga' and 'lbfgs'\n",
      " |        handle multinomial loss; 'liblinear' is limited to one-versus-rest\n",
      " |        schemes.\n",
      " |      - 'newton-cg', 'lbfgs', 'sag' and 'saga' handle L2 or no penalty\n",
      " |      - 'liblinear' and 'saga' also handle L1 penalty\n",
      " |      - 'saga' also supports 'elasticnet' penalty\n",
      " |      - 'liblinear' does not support setting ``penalty='none'``\n",
      " |  \n",
      " |      Note that 'sag' and 'saga' fast convergence is only guaranteed on\n",
      " |      features with approximately the same scale. You can\n",
      " |      preprocess the data with a scaler from sklearn.preprocessing.\n",
      " |  \n",
      " |      .. versionadded:: 0.17\n",
      " |         Stochastic Average Gradient descent solver.\n",
      " |      .. versionadded:: 0.19\n",
      " |         SAGA solver.\n",
      " |      .. versionchanged:: 0.22\n",
      " |          The default solver changed from 'liblinear' to 'lbfgs' in 0.22.\n",
      " |  \n",
      " |  max_iter : int, default=100\n",
      " |      Maximum number of iterations taken for the solvers to converge.\n",
      " |  \n",
      " |  multi_class : {'auto', 'ovr', 'multinomial'}, default='auto'\n",
      " |      If the option chosen is 'ovr', then a binary problem is fit for each\n",
      " |      label. For 'multinomial' the loss minimised is the multinomial loss fit\n",
      " |      across the entire probability distribution, *even when the data is\n",
      " |      binary*. 'multinomial' is unavailable when solver='liblinear'.\n",
      " |      'auto' selects 'ovr' if the data is binary, or if solver='liblinear',\n",
      " |      and otherwise selects 'multinomial'.\n",
      " |  \n",
      " |      .. versionadded:: 0.18\n",
      " |         Stochastic Average Gradient descent solver for 'multinomial' case.\n",
      " |      .. versionchanged:: 0.22\n",
      " |          Default changed from 'ovr' to 'auto' in 0.22.\n",
      " |  \n",
      " |  verbose : int, default=0\n",
      " |      For the liblinear and lbfgs solvers set verbose to any positive\n",
      " |      number for verbosity.\n",
      " |  \n",
      " |  warm_start : bool, default=False\n",
      " |      When set to True, reuse the solution of the previous call to fit as\n",
      " |      initialization, otherwise, just erase the previous solution.\n",
      " |      Useless for liblinear solver. See :term:`the Glossary <warm_start>`.\n",
      " |  \n",
      " |      .. versionadded:: 0.17\n",
      " |         *warm_start* to support *lbfgs*, *newton-cg*, *sag*, *saga* solvers.\n",
      " |  \n",
      " |  n_jobs : int, default=None\n",
      " |      Number of CPU cores used when parallelizing over classes if\n",
      " |      multi_class='ovr'\". This parameter is ignored when the ``solver`` is\n",
      " |      set to 'liblinear' regardless of whether 'multi_class' is specified or\n",
      " |      not. ``None`` means 1 unless in a :obj:`joblib.parallel_backend`\n",
      " |      context. ``-1`` means using all processors.\n",
      " |      See :term:`Glossary <n_jobs>` for more details.\n",
      " |  \n",
      " |  l1_ratio : float, default=None\n",
      " |      The Elastic-Net mixing parameter, with ``0 <= l1_ratio <= 1``. Only\n",
      " |      used if ``penalty='elasticnet'``. Setting ``l1_ratio=0`` is equivalent\n",
      " |      to using ``penalty='l2'``, while setting ``l1_ratio=1`` is equivalent\n",
      " |      to using ``penalty='l1'``. For ``0 < l1_ratio <1``, the penalty is a\n",
      " |      combination of L1 and L2.\n",
      " |  \n",
      " |  Attributes\n",
      " |  ----------\n",
      " |  \n",
      " |  classes_ : ndarray of shape (n_classes, )\n",
      " |      A list of class labels known to the classifier.\n",
      " |  \n",
      " |  coef_ : ndarray of shape (1, n_features) or (n_classes, n_features)\n",
      " |      Coefficient of the features in the decision function.\n",
      " |  \n",
      " |      `coef_` is of shape (1, n_features) when the given problem is binary.\n",
      " |      In particular, when `multi_class='multinomial'`, `coef_` corresponds\n",
      " |      to outcome 1 (True) and `-coef_` corresponds to outcome 0 (False).\n",
      " |  \n",
      " |  intercept_ : ndarray of shape (1,) or (n_classes,)\n",
      " |      Intercept (a.k.a. bias) added to the decision function.\n",
      " |  \n",
      " |      If `fit_intercept` is set to False, the intercept is set to zero.\n",
      " |      `intercept_` is of shape (1,) when the given problem is binary.\n",
      " |      In particular, when `multi_class='multinomial'`, `intercept_`\n",
      " |      corresponds to outcome 1 (True) and `-intercept_` corresponds to\n",
      " |      outcome 0 (False).\n",
      " |  \n",
      " |  n_iter_ : ndarray of shape (n_classes,) or (1, )\n",
      " |      Actual number of iterations for all classes. If binary or multinomial,\n",
      " |      it returns only 1 element. For liblinear solver, only the maximum\n",
      " |      number of iteration across all classes is given.\n",
      " |  \n",
      " |      .. versionchanged:: 0.20\n",
      " |  \n",
      " |          In SciPy <= 1.0.0 the number of lbfgs iterations may exceed\n",
      " |          ``max_iter``. ``n_iter_`` will now report at most ``max_iter``.\n",
      " |  \n",
      " |  See Also\n",
      " |  --------\n",
      " |  SGDClassifier : Incrementally trained logistic regression (when given\n",
      " |      the parameter ``loss=\"log\"``).\n",
      " |  LogisticRegressionCV : Logistic regression with built-in cross validation.\n",
      " |  \n",
      " |  Notes\n",
      " |  -----\n",
      " |  The underlying C implementation uses a random number generator to\n",
      " |  select features when fitting the model. It is thus not uncommon,\n",
      " |  to have slightly different results for the same input data. If\n",
      " |  that happens, try with a smaller tol parameter.\n",
      " |  \n",
      " |  Predict output may not match that of standalone liblinear in certain\n",
      " |  cases. See :ref:`differences from liblinear <liblinear_differences>`\n",
      " |  in the narrative documentation.\n",
      " |  \n",
      " |  References\n",
      " |  ----------\n",
      " |  \n",
      " |  L-BFGS-B -- Software for Large-scale Bound-constrained Optimization\n",
      " |      Ciyou Zhu, Richard Byrd, Jorge Nocedal and Jose Luis Morales.\n",
      " |      http://users.iems.northwestern.edu/~nocedal/lbfgsb.html\n",
      " |  \n",
      " |  LIBLINEAR -- A Library for Large Linear Classification\n",
      " |      https://www.csie.ntu.edu.tw/~cjlin/liblinear/\n",
      " |  \n",
      " |  SAG -- Mark Schmidt, Nicolas Le Roux, and Francis Bach\n",
      " |      Minimizing Finite Sums with the Stochastic Average Gradient\n",
      " |      https://hal.inria.fr/hal-00860051/document\n",
      " |  \n",
      " |  SAGA -- Defazio, A., Bach F. & Lacoste-Julien S. (2014).\n",
      " |      SAGA: A Fast Incremental Gradient Method With Support\n",
      " |      for Non-Strongly Convex Composite Objectives\n",
      " |      https://arxiv.org/abs/1407.0202\n",
      " |  \n",
      " |  Hsiang-Fu Yu, Fang-Lan Huang, Chih-Jen Lin (2011). Dual coordinate descent\n",
      " |      methods for logistic regression and maximum entropy models.\n",
      " |      Machine Learning 85(1-2):41-75.\n",
      " |      https://www.csie.ntu.edu.tw/~cjlin/papers/maxent_dual.pdf\n",
      " |  \n",
      " |  Examples\n",
      " |  --------\n",
      " |  >>> from sklearn.datasets import load_iris\n",
      " |  >>> from sklearn.linear_model import LogisticRegression\n",
      " |  >>> X, y = load_iris(return_X_y=True)\n",
      " |  >>> clf = LogisticRegression(random_state=0).fit(X, y)\n",
      " |  >>> clf.predict(X[:2, :])\n",
      " |  array([0, 0])\n",
      " |  >>> clf.predict_proba(X[:2, :])\n",
      " |  array([[9.8...e-01, 1.8...e-02, 1.4...e-08],\n",
      " |         [9.7...e-01, 2.8...e-02, ...e-08]])\n",
      " |  >>> clf.score(X, y)\n",
      " |  0.97...\n",
      " |  \n",
      " |  Method resolution order:\n",
      " |      LogisticRegression\n",
      " |      sklearn.linear_model._base.LinearClassifierMixin\n",
      " |      sklearn.base.ClassifierMixin\n",
      " |      sklearn.linear_model._base.SparseCoefMixin\n",
      " |      sklearn.base.BaseEstimator\n",
      " |      builtins.object\n",
      " |  \n",
      " |  Methods defined here:\n",
      " |  \n",
      " |  __init__(self, penalty='l2', *, dual=False, tol=0.0001, C=1.0, fit_intercept=True, intercept_scaling=1, class_weight=None, random_state=None, solver='lbfgs', max_iter=100, multi_class='auto', verbose=0, warm_start=False, n_jobs=None, l1_ratio=None)\n",
      " |      Initialize self.  See help(type(self)) for accurate signature.\n",
      " |  \n",
      " |  fit(self, X, y, sample_weight=None)\n",
      " |      Fit the model according to the given training data.\n",
      " |      \n",
      " |      Parameters\n",
      " |      ----------\n",
      " |      X : {array-like, sparse matrix} of shape (n_samples, n_features)\n",
      " |          Training vector, where n_samples is the number of samples and\n",
      " |          n_features is the number of features.\n",
      " |      \n",
      " |      y : array-like of shape (n_samples,)\n",
      " |          Target vector relative to X.\n",
      " |      \n",
      " |      sample_weight : array-like of shape (n_samples,) default=None\n",
      " |          Array of weights that are assigned to individual samples.\n",
      " |          If not provided, then each sample is given unit weight.\n",
      " |      \n",
      " |          .. versionadded:: 0.17\n",
      " |             *sample_weight* support to LogisticRegression.\n",
      " |      \n",
      " |      Returns\n",
      " |      -------\n",
      " |      self\n",
      " |          Fitted estimator.\n",
      " |      \n",
      " |      Notes\n",
      " |      -----\n",
      " |      The SAGA solver supports both float64 and float32 bit arrays.\n",
      " |  \n",
      " |  predict_log_proba(self, X)\n",
      " |      Predict logarithm of probability estimates.\n",
      " |      \n",
      " |      The returned estimates for all classes are ordered by the\n",
      " |      label of classes.\n",
      " |      \n",
      " |      Parameters\n",
      " |      ----------\n",
      " |      X : array-like of shape (n_samples, n_features)\n",
      " |          Vector to be scored, where `n_samples` is the number of samples and\n",
      " |          `n_features` is the number of features.\n",
      " |      \n",
      " |      Returns\n",
      " |      -------\n",
      " |      T : array-like of shape (n_samples, n_classes)\n",
      " |          Returns the log-probability of the sample for each class in the\n",
      " |          model, where classes are ordered as they are in ``self.classes_``.\n",
      " |  \n",
      " |  predict_proba(self, X)\n",
      " |      Probability estimates.\n",
      " |      \n",
      " |      The returned estimates for all classes are ordered by the\n",
      " |      label of classes.\n",
      " |      \n",
      " |      For a multi_class problem, if multi_class is set to be \"multinomial\"\n",
      " |      the softmax function is used to find the predicted probability of\n",
      " |      each class.\n",
      " |      Else use a one-vs-rest approach, i.e calculate the probability\n",
      " |      of each class assuming it to be positive using the logistic function.\n",
      " |      and normalize these values across all the classes.\n",
      " |      \n",
      " |      Parameters\n",
      " |      ----------\n",
      " |      X : array-like of shape (n_samples, n_features)\n",
      " |          Vector to be scored, where `n_samples` is the number of samples and\n",
      " |          `n_features` is the number of features.\n",
      " |      \n",
      " |      Returns\n",
      " |      -------\n",
      " |      T : array-like of shape (n_samples, n_classes)\n",
      " |          Returns the probability of the sample for each class in the model,\n",
      " |          where classes are ordered as they are in ``self.classes_``.\n",
      " |  \n",
      " |  ----------------------------------------------------------------------\n",
      " |  Methods inherited from sklearn.linear_model._base.LinearClassifierMixin:\n",
      " |  \n",
      " |  decision_function(self, X)\n",
      " |      Predict confidence scores for samples.\n",
      " |      \n",
      " |      The confidence score for a sample is proportional to the signed\n",
      " |      distance of that sample to the hyperplane.\n",
      " |      \n",
      " |      Parameters\n",
      " |      ----------\n",
      " |      X : array-like or sparse matrix, shape (n_samples, n_features)\n",
      " |          Samples.\n",
      " |      \n",
      " |      Returns\n",
      " |      -------\n",
      " |      array, shape=(n_samples,) if n_classes == 2 else (n_samples, n_classes)\n",
      " |          Confidence scores per (sample, class) combination. In the binary\n",
      " |          case, confidence score for self.classes_[1] where >0 means this\n",
      " |          class would be predicted.\n",
      " |  \n",
      " |  predict(self, X)\n",
      " |      Predict class labels for samples in X.\n",
      " |      \n",
      " |      Parameters\n",
      " |      ----------\n",
      " |      X : array-like or sparse matrix, shape (n_samples, n_features)\n",
      " |          Samples.\n",
      " |      \n",
      " |      Returns\n",
      " |      -------\n",
      " |      C : array, shape [n_samples]\n",
      " |          Predicted class label per sample.\n",
      " |  \n",
      " |  ----------------------------------------------------------------------\n",
      " |  Methods inherited from sklearn.base.ClassifierMixin:\n",
      " |  \n",
      " |  score(self, X, y, sample_weight=None)\n",
      " |      Return the mean accuracy on the given test data and labels.\n",
      " |      \n",
      " |      In multi-label classification, this is the subset accuracy\n",
      " |      which is a harsh metric since you require for each sample that\n",
      " |      each label set be correctly predicted.\n",
      " |      \n",
      " |      Parameters\n",
      " |      ----------\n",
      " |      X : array-like of shape (n_samples, n_features)\n",
      " |          Test samples.\n",
      " |      \n",
      " |      y : array-like of shape (n_samples,) or (n_samples, n_outputs)\n",
      " |          True labels for `X`.\n",
      " |      \n",
      " |      sample_weight : array-like of shape (n_samples,), default=None\n",
      " |          Sample weights.\n",
      " |      \n",
      " |      Returns\n",
      " |      -------\n",
      " |      score : float\n",
      " |          Mean accuracy of ``self.predict(X)`` wrt. `y`.\n",
      " |  \n",
      " |  ----------------------------------------------------------------------\n",
      " |  Data descriptors inherited from sklearn.base.ClassifierMixin:\n",
      " |  \n",
      " |  __dict__\n",
      " |      dictionary for instance variables (if defined)\n",
      " |  \n",
      " |  __weakref__\n",
      " |      list of weak references to the object (if defined)\n",
      " |  \n",
      " |  ----------------------------------------------------------------------\n",
      " |  Methods inherited from sklearn.linear_model._base.SparseCoefMixin:\n",
      " |  \n",
      " |  densify(self)\n",
      " |      Convert coefficient matrix to dense array format.\n",
      " |      \n",
      " |      Converts the ``coef_`` member (back) to a numpy.ndarray. This is the\n",
      " |      default format of ``coef_`` and is required for fitting, so calling\n",
      " |      this method is only required on models that have previously been\n",
      " |      sparsified; otherwise, it is a no-op.\n",
      " |      \n",
      " |      Returns\n",
      " |      -------\n",
      " |      self\n",
      " |          Fitted estimator.\n",
      " |  \n",
      " |  sparsify(self)\n",
      " |      Convert coefficient matrix to sparse format.\n",
      " |      \n",
      " |      Converts the ``coef_`` member to a scipy.sparse matrix, which for\n",
      " |      L1-regularized models can be much more memory- and storage-efficient\n",
      " |      than the usual numpy.ndarray representation.\n",
      " |      \n",
      " |      The ``intercept_`` member is not converted.\n",
      " |      \n",
      " |      Returns\n",
      " |      -------\n",
      " |      self\n",
      " |          Fitted estimator.\n",
      " |      \n",
      " |      Notes\n",
      " |      -----\n",
      " |      For non-sparse models, i.e. when there are not many zeros in ``coef_``,\n",
      " |      this may actually *increase* memory usage, so use this method with\n",
      " |      care. A rule of thumb is that the number of zero elements, which can\n",
      " |      be computed with ``(coef_ == 0).sum()``, must be more than 50% for this\n",
      " |      to provide significant benefits.\n",
      " |      \n",
      " |      After calling this method, further fitting with the partial_fit\n",
      " |      method (if any) will not work until you call densify.\n",
      " |  \n",
      " |  ----------------------------------------------------------------------\n",
      " |  Methods inherited from sklearn.base.BaseEstimator:\n",
      " |  \n",
      " |  __getstate__(self)\n",
      " |  \n",
      " |  __repr__(self, N_CHAR_MAX=700)\n",
      " |      Return repr(self).\n",
      " |  \n",
      " |  __setstate__(self, state)\n",
      " |  \n",
      " |  get_params(self, deep=True)\n",
      " |      Get parameters for this estimator.\n",
      " |      \n",
      " |      Parameters\n",
      " |      ----------\n",
      " |      deep : bool, default=True\n",
      " |          If True, will return the parameters for this estimator and\n",
      " |          contained subobjects that are estimators.\n",
      " |      \n",
      " |      Returns\n",
      " |      -------\n",
      " |      params : dict\n",
      " |          Parameter names mapped to their values.\n",
      " |  \n",
      " |  set_params(self, **params)\n",
      " |      Set the parameters of this estimator.\n",
      " |      \n",
      " |      The method works on simple estimators as well as on nested objects\n",
      " |      (such as :class:`~sklearn.pipeline.Pipeline`). The latter have\n",
      " |      parameters of the form ``<component>__<parameter>`` so that it's\n",
      " |      possible to update each component of a nested object.\n",
      " |      \n",
      " |      Parameters\n",
      " |      ----------\n",
      " |      **params : dict\n",
      " |          Estimator parameters.\n",
      " |      \n",
      " |      Returns\n",
      " |      -------\n",
      " |      self : estimator instance\n",
      " |          Estimator instance.\n",
      "\n",
      "Help on class LinearRegression in module sklearn.linear_model._base:\n",
      "\n",
      "class LinearRegression(sklearn.base.MultiOutputMixin, sklearn.base.RegressorMixin, LinearModel)\n",
      " |  LinearRegression(*, fit_intercept=True, normalize=False, copy_X=True, n_jobs=None, positive=False)\n",
      " |  \n",
      " |  Ordinary least squares Linear Regression.\n",
      " |  \n",
      " |  LinearRegression fits a linear model with coefficients w = (w1, ..., wp)\n",
      " |  to minimize the residual sum of squares between the observed targets in\n",
      " |  the dataset, and the targets predicted by the linear approximation.\n",
      " |  \n",
      " |  Parameters\n",
      " |  ----------\n",
      " |  fit_intercept : bool, default=True\n",
      " |      Whether to calculate the intercept for this model. If set\n",
      " |      to False, no intercept will be used in calculations\n",
      " |      (i.e. data is expected to be centered).\n",
      " |  \n",
      " |  normalize : bool, default=False\n",
      " |      This parameter is ignored when ``fit_intercept`` is set to False.\n",
      " |      If True, the regressors X will be normalized before regression by\n",
      " |      subtracting the mean and dividing by the l2-norm.\n",
      " |      If you wish to standardize, please use\n",
      " |      :class:`~sklearn.preprocessing.StandardScaler` before calling ``fit``\n",
      " |      on an estimator with ``normalize=False``.\n",
      " |  \n",
      " |  copy_X : bool, default=True\n",
      " |      If True, X will be copied; else, it may be overwritten.\n",
      " |  \n",
      " |  n_jobs : int, default=None\n",
      " |      The number of jobs to use for the computation. This will only provide\n",
      " |      speedup for n_targets > 1 and sufficient large problems.\n",
      " |      ``None`` means 1 unless in a :obj:`joblib.parallel_backend` context.\n",
      " |      ``-1`` means using all processors. See :term:`Glossary <n_jobs>`\n",
      " |      for more details.\n",
      " |  \n",
      " |  positive : bool, default=False\n",
      " |      When set to ``True``, forces the coefficients to be positive. This\n",
      " |      option is only supported for dense arrays.\n",
      " |  \n",
      " |      .. versionadded:: 0.24\n",
      " |  \n",
      " |  Attributes\n",
      " |  ----------\n",
      " |  coef_ : array of shape (n_features, ) or (n_targets, n_features)\n",
      " |      Estimated coefficients for the linear regression problem.\n",
      " |      If multiple targets are passed during the fit (y 2D), this\n",
      " |      is a 2D array of shape (n_targets, n_features), while if only\n",
      " |      one target is passed, this is a 1D array of length n_features.\n",
      " |  \n",
      " |  rank_ : int\n",
      " |      Rank of matrix `X`. Only available when `X` is dense.\n",
      " |  \n",
      " |  singular_ : array of shape (min(X, y),)\n",
      " |      Singular values of `X`. Only available when `X` is dense.\n",
      " |  \n",
      " |  intercept_ : float or array of shape (n_targets,)\n",
      " |      Independent term in the linear model. Set to 0.0 if\n",
      " |      `fit_intercept = False`.\n",
      " |  \n",
      " |  See Also\n",
      " |  --------\n",
      " |  Ridge : Ridge regression addresses some of the\n",
      " |      problems of Ordinary Least Squares by imposing a penalty on the\n",
      " |      size of the coefficients with l2 regularization.\n",
      " |  Lasso : The Lasso is a linear model that estimates\n",
      " |      sparse coefficients with l1 regularization.\n",
      " |  ElasticNet : Elastic-Net is a linear regression\n",
      " |      model trained with both l1 and l2 -norm regularization of the\n",
      " |      coefficients.\n",
      " |  \n",
      " |  Notes\n",
      " |  -----\n",
      " |  From the implementation point of view, this is just plain Ordinary\n",
      " |  Least Squares (scipy.linalg.lstsq) or Non Negative Least Squares\n",
      " |  (scipy.optimize.nnls) wrapped as a predictor object.\n",
      " |  \n",
      " |  Examples\n",
      " |  --------\n",
      " |  >>> import numpy as np\n",
      " |  >>> from sklearn.linear_model import LinearRegression\n",
      " |  >>> X = np.array([[1, 1], [1, 2], [2, 2], [2, 3]])\n",
      " |  >>> # y = 1 * x_0 + 2 * x_1 + 3\n",
      " |  >>> y = np.dot(X, np.array([1, 2])) + 3\n",
      " |  >>> reg = LinearRegression().fit(X, y)\n",
      " |  >>> reg.score(X, y)\n",
      " |  1.0\n",
      " |  >>> reg.coef_\n",
      " |  array([1., 2.])\n",
      " |  >>> reg.intercept_\n",
      " |  3.0...\n",
      " |  >>> reg.predict(np.array([[3, 5]]))\n",
      " |  array([16.])\n",
      " |  \n",
      " |  Method resolution order:\n",
      " |      LinearRegression\n",
      " |      sklearn.base.MultiOutputMixin\n",
      " |      sklearn.base.RegressorMixin\n",
      " |      LinearModel\n",
      " |      sklearn.base.BaseEstimator\n",
      " |      builtins.object\n",
      " |  \n",
      " |  Methods defined here:\n",
      " |  \n",
      " |  __init__(self, *, fit_intercept=True, normalize=False, copy_X=True, n_jobs=None, positive=False)\n",
      " |      Initialize self.  See help(type(self)) for accurate signature.\n",
      " |  \n",
      " |  fit(self, X, y, sample_weight=None)\n",
      " |      Fit linear model.\n",
      " |      \n",
      " |      Parameters\n",
      " |      ----------\n",
      " |      X : {array-like, sparse matrix} of shape (n_samples, n_features)\n",
      " |          Training data\n",
      " |      \n",
      " |      y : array-like of shape (n_samples,) or (n_samples, n_targets)\n",
      " |          Target values. Will be cast to X's dtype if necessary\n",
      " |      \n",
      " |      sample_weight : array-like of shape (n_samples,), default=None\n",
      " |          Individual weights for each sample\n",
      " |      \n",
      " |          .. versionadded:: 0.17\n",
      " |             parameter *sample_weight* support to LinearRegression.\n",
      " |      \n",
      " |      Returns\n",
      " |      -------\n",
      " |      self : returns an instance of self.\n",
      " |  \n",
      " |  ----------------------------------------------------------------------\n",
      " |  Data and other attributes defined here:\n",
      " |  \n",
      " |  __abstractmethods__ = frozenset()\n",
      " |  \n",
      " |  ----------------------------------------------------------------------\n",
      " |  Data descriptors inherited from sklearn.base.MultiOutputMixin:\n",
      " |  \n",
      " |  __dict__\n",
      " |      dictionary for instance variables (if defined)\n",
      " |  \n",
      " |  __weakref__\n",
      " |      list of weak references to the object (if defined)\n",
      " |  \n",
      " |  ----------------------------------------------------------------------\n",
      " |  Methods inherited from sklearn.base.RegressorMixin:\n",
      " |  \n",
      " |  score(self, X, y, sample_weight=None)\n",
      " |      Return the coefficient of determination :math:`R^2` of the\n",
      " |      prediction.\n",
      " |      \n",
      " |      The coefficient :math:`R^2` is defined as :math:`(1 - \\frac{u}{v})`,\n",
      " |      where :math:`u` is the residual sum of squares ``((y_true - y_pred)\n",
      " |      ** 2).sum()`` and :math:`v` is the total sum of squares ``((y_true -\n",
      " |      y_true.mean()) ** 2).sum()``. The best possible score is 1.0 and it\n",
      " |      can be negative (because the model can be arbitrarily worse). A\n",
      " |      constant model that always predicts the expected value of `y`,\n",
      " |      disregarding the input features, would get a :math:`R^2` score of\n",
      " |      0.0.\n",
      " |      \n",
      " |      Parameters\n",
      " |      ----------\n",
      " |      X : array-like of shape (n_samples, n_features)\n",
      " |          Test samples. For some estimators this may be a precomputed\n",
      " |          kernel matrix or a list of generic objects instead with shape\n",
      " |          ``(n_samples, n_samples_fitted)``, where ``n_samples_fitted``\n",
      " |          is the number of samples used in the fitting for the estimator.\n",
      " |      \n",
      " |      y : array-like of shape (n_samples,) or (n_samples, n_outputs)\n",
      " |          True values for `X`.\n",
      " |      \n",
      " |      sample_weight : array-like of shape (n_samples,), default=None\n",
      " |          Sample weights.\n",
      " |      \n",
      " |      Returns\n",
      " |      -------\n",
      " |      score : float\n",
      " |          :math:`R^2` of ``self.predict(X)`` wrt. `y`.\n",
      " |      \n",
      " |      Notes\n",
      " |      -----\n",
      " |      The :math:`R^2` score used when calling ``score`` on a regressor uses\n",
      " |      ``multioutput='uniform_average'`` from version 0.23 to keep consistent\n",
      " |      with default value of :func:`~sklearn.metrics.r2_score`.\n",
      " |      This influences the ``score`` method of all the multioutput\n",
      " |      regressors (except for\n",
      " |      :class:`~sklearn.multioutput.MultiOutputRegressor`).\n",
      " |  \n",
      " |  ----------------------------------------------------------------------\n",
      " |  Methods inherited from LinearModel:\n",
      " |  \n",
      " |  predict(self, X)\n",
      " |      Predict using the linear model.\n",
      " |      \n",
      " |      Parameters\n",
      " |      ----------\n",
      " |      X : array-like or sparse matrix, shape (n_samples, n_features)\n",
      " |          Samples.\n",
      " |      \n",
      " |      Returns\n",
      " |      -------\n",
      " |      C : array, shape (n_samples,)\n",
      " |          Returns predicted values.\n",
      " |  \n",
      " |  ----------------------------------------------------------------------\n",
      " |  Methods inherited from sklearn.base.BaseEstimator:\n",
      " |  \n",
      " |  __getstate__(self)\n",
      " |  \n",
      " |  __repr__(self, N_CHAR_MAX=700)\n",
      " |      Return repr(self).\n",
      " |  \n",
      " |  __setstate__(self, state)\n",
      " |  \n",
      " |  get_params(self, deep=True)\n",
      " |      Get parameters for this estimator.\n",
      " |      \n",
      " |      Parameters\n",
      " |      ----------\n",
      " |      deep : bool, default=True\n",
      " |          If True, will return the parameters for this estimator and\n",
      " |          contained subobjects that are estimators.\n",
      " |      \n",
      " |      Returns\n",
      " |      -------\n",
      " |      params : dict\n",
      " |          Parameter names mapped to their values.\n",
      " |  \n",
      " |  set_params(self, **params)\n",
      " |      Set the parameters of this estimator.\n",
      " |      \n",
      " |      The method works on simple estimators as well as on nested objects\n",
      " |      (such as :class:`~sklearn.pipeline.Pipeline`). The latter have\n",
      " |      parameters of the form ``<component>__<parameter>`` so that it's\n",
      " |      possible to update each component of a nested object.\n",
      " |      \n",
      " |      Parameters\n",
      " |      ----------\n",
      " |      **params : dict\n",
      " |          Estimator parameters.\n",
      " |      \n",
      " |      Returns\n",
      " |      -------\n",
      " |      self : estimator instance\n",
      " |          Estimator instance.\n",
      "\n"
     ]
    }
   ],
   "source": [
    "help(LogisticRegression)\n",
    "help(LinearRegression)"
   ]
  },
  {
   "cell_type": "markdown",
   "id": "1ced8fe4",
   "metadata": {},
   "source": [
    "**Q: Dans l'aide, quel est l'argument qui permet de gérer la pénalité utilisée ?**"
   ]
  },
  {
   "cell_type": "markdown",
   "id": "53d46e5e",
   "metadata": {},
   "source": []
  },
  {
   "cell_type": "markdown",
   "id": "78314b8e",
   "metadata": {},
   "source": [
    "**Q: [Regression] Comparer les différentes pénalisations en termes de performances sur l'ensemble d'apprentissage et de test ainsi que sur l'estimation des coefficients. Commenter.**"
   ]
  },
  {
   "cell_type": "code",
   "execution_count": null,
   "id": "65045793",
   "metadata": {},
   "outputs": [],
   "source": []
  },
  {
   "cell_type": "code",
   "execution_count": null,
   "id": "0a908218",
   "metadata": {},
   "outputs": [],
   "source": []
  },
  {
   "cell_type": "code",
   "execution_count": null,
   "id": "38df73e7",
   "metadata": {},
   "outputs": [],
   "source": []
  },
  {
   "cell_type": "code",
   "execution_count": null,
   "id": "496c8022",
   "metadata": {},
   "outputs": [],
   "source": []
  },
  {
   "cell_type": "markdown",
   "id": "8c4ee6b7",
   "metadata": {},
   "source": [
    "**Q: [Classification] Comparer les différentes pénalisations en termes de performances sur l'ensemble d'apprentissage et de test ainsi que sur l'estimation des coefficients. Commenter.**"
   ]
  },
  {
   "cell_type": "code",
   "execution_count": null,
   "id": "d3d93fb0",
   "metadata": {},
   "outputs": [],
   "source": []
  },
  {
   "cell_type": "code",
   "execution_count": null,
   "id": "95a8e916",
   "metadata": {},
   "outputs": [],
   "source": []
  },
  {
   "cell_type": "code",
   "execution_count": null,
   "id": "df085d07",
   "metadata": {},
   "outputs": [],
   "source": []
  },
  {
   "cell_type": "code",
   "execution_count": null,
   "id": "cf131f16",
   "metadata": {},
   "outputs": [],
   "source": []
  },
  {
   "cell_type": "markdown",
   "id": "725521b4",
   "metadata": {},
   "source": [
    "**Q: Créer une procédure d'optimisation des hyper-paramètres.**"
   ]
  },
  {
   "cell_type": "code",
   "execution_count": null,
   "id": "db6e45ce",
   "metadata": {},
   "outputs": [],
   "source": []
  },
  {
   "cell_type": "markdown",
   "id": "e78d4dca",
   "metadata": {
    "tags": []
   },
   "source": [
    "## Exercice 4 : Decision Tree and random Forest"
   ]
  },
  {
   "cell_type": "markdown",
   "id": "59bfa76e",
   "metadata": {},
   "source": [
    "### Arbre de décision"
   ]
  },
  {
   "cell_type": "markdown",
   "id": "3072d70a",
   "metadata": {},
   "source": [
    "The DecisionTreeClassifier() of the library ‘tree’ implements the decision tree for classification."
   ]
  },
  {
   "cell_type": "code",
   "execution_count": null,
   "id": "948a008d",
   "metadata": {},
   "outputs": [],
   "source": [
    "from sklearn import tree\n",
    "from sklearn.tree import DecisionTreeClassifier"
   ]
  },
  {
   "cell_type": "markdown",
   "id": "ca4c8647",
   "metadata": {},
   "source": [
    "**Q: Quels sont les hyper-paramètres d'un arbre de décision ? Quelless sont les valeurs par défaut de `DecisionTreeClassifier()`?**"
   ]
  },
  {
   "cell_type": "markdown",
   "id": "0038e415",
   "metadata": {},
   "source": []
  },
  {
   "cell_type": "markdown",
   "id": "6cb2fc2c",
   "metadata": {},
   "source": [
    "**Q: Calculer la prédiction des classes associées à toutes les entrées de l'ensemble des données de la grille et visualiser les frontières de décision.**"
   ]
  },
  {
   "cell_type": "code",
   "execution_count": null,
   "id": "6098872f",
   "metadata": {},
   "outputs": [],
   "source": []
  },
  {
   "cell_type": "code",
   "execution_count": null,
   "id": "b4dc9bfe",
   "metadata": {},
   "outputs": [],
   "source": [
    "from sklearn.tree import export_text\n",
    "r = export_text(treefit); # treefit -> Model\n",
    "print(r)"
   ]
  },
  {
   "cell_type": "markdown",
   "id": "0d9496b6",
   "metadata": {},
   "source": [
    "**Q: Que fait le code ci-dessus ?**"
   ]
  },
  {
   "cell_type": "code",
   "execution_count": null,
   "id": "5781a109",
   "metadata": {},
   "outputs": [],
   "source": []
  },
  {
   "cell_type": "markdown",
   "id": "90e2a589",
   "metadata": {},
   "source": [
    "**Q: Créer une procédure d'optimisation des hyper-paramètres.**"
   ]
  },
  {
   "cell_type": "code",
   "execution_count": null,
   "id": "dcf7cf89",
   "metadata": {},
   "outputs": [],
   "source": []
  },
  {
   "cell_type": "markdown",
   "id": "47cda2e3",
   "metadata": {},
   "source": [
    "### Forêts aléatoires"
   ]
  },
  {
   "cell_type": "code",
   "execution_count": null,
   "id": "9f036853",
   "metadata": {},
   "outputs": [],
   "source": [
    "from sklearn.ensemble import RandomForestClassifier"
   ]
  },
  {
   "cell_type": "markdown",
   "id": "00bfbc00",
   "metadata": {},
   "source": [
    "**Q: Quels sont les hyper-paramètres d'un arbre de décision ? Quelles sont les valeurs par défaut de `DecisionTreeClassifier()`?**"
   ]
  },
  {
   "cell_type": "markdown",
   "id": "b3e6f7f2",
   "metadata": {},
   "source": []
  },
  {
   "cell_type": "markdown",
   "id": "b459b600",
   "metadata": {},
   "source": [
    "**Q: Calculer la prédiction des classes associées à toutes les entrées de l'ensemble de données de la grille et visualiser les frontières de décision.**"
   ]
  },
  {
   "cell_type": "code",
   "execution_count": null,
   "id": "1ea9d537",
   "metadata": {},
   "outputs": [],
   "source": []
  },
  {
   "cell_type": "markdown",
   "id": "ae8657a1",
   "metadata": {},
   "source": [
    "**Q: Créer une procédure d'optimisation des hyper-paramètres.**"
   ]
  },
  {
   "cell_type": "code",
   "execution_count": null,
   "id": "71ebab23",
   "metadata": {},
   "outputs": [],
   "source": []
  },
  {
   "cell_type": "markdown",
   "id": "bec28531",
   "metadata": {
    "tags": []
   },
   "source": [
    "## Exercice 5"
   ]
  },
  {
   "cell_type": "markdown",
   "id": "81fcc4e5",
   "metadata": {},
   "source": [
    "**Q: Appliquer tout ce que vous avez vu au cours de ce TP au dataset [Maternal Health Risk](https://archive.ics.uci.edu/dataset/863/maternal+health+risk).**"
   ]
  },
  {
   "cell_type": "code",
   "execution_count": null,
   "id": "a90e539a",
   "metadata": {},
   "outputs": [],
   "source": []
  }
 ],
 "metadata": {
  "kernelspec": {
   "display_name": "Python 3 (ipykernel)",
   "language": "python",
   "name": "python3"
  },
  "language_info": {
   "codemirror_mode": {
    "name": "ipython",
    "version": 3
   },
   "file_extension": ".py",
   "mimetype": "text/x-python",
   "name": "python",
   "nbconvert_exporter": "python",
   "pygments_lexer": "ipython3",
   "version": "3.9.7"
  }
 },
 "nbformat": 4,
 "nbformat_minor": 5
}
