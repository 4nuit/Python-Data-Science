{
 "cells": [
  {
   "cell_type": "markdown",
   "id": "42a8a2d3",
   "metadata": {},
   "source": [
    "# TP Supervised Learning"
   ]
  },
  {
   "cell_type": "markdown",
   "id": "554f6d58",
   "metadata": {},
   "source": [
    "Ce notebook est basé sur le numerical tour de *Gabriel Peyré* qui introduit les notions essentielles à la regression linéaire et logistique."
   ]
  },
  {
   "cell_type": "code",
   "execution_count": 88,
   "id": "0c8eeb9d",
   "metadata": {},
   "outputs": [],
   "source": [
    "import numpy as np\n",
    "import pandas as pd\n",
    "import matplotlib.pyplot as plt\n",
    "import seaborn as sns\n",
    "import math"
   ]
  },
  {
   "cell_type": "markdown",
   "id": "c7ec2e7a",
   "metadata": {},
   "source": [
    "Fonctions utiles :"
   ]
  },
  {
   "cell_type": "code",
   "execution_count": 89,
   "id": "4d8a2a34",
   "metadata": {},
   "outputs": [],
   "source": [
    "#  convert to a column vector\n",
    "def MakeCol(y): return y.reshape(-1,1)\n",
    "#  convert to a row vector\n",
    "def MakeRow(y): return y.reshape(1,-1)\n",
    "# find non zero/true elements\n",
    "def find(x): return np.nonzero(x)[0]"
   ]
  },
  {
   "cell_type": "markdown",
   "id": "8be3e45d",
   "metadata": {},
   "source": [
    "## Exercice 1 : Linear Regression"
   ]
  },
  {
   "cell_type": "markdown",
   "id": "aaa789cd",
   "metadata": {},
   "source": [
    "### Data Simulation"
   ]
  },
  {
   "cell_type": "markdown",
   "id": "8e8a95c2",
   "metadata": {},
   "source": [
    "Tout d'abord on simule un problème de régression."
   ]
  },
  {
   "cell_type": "code",
   "execution_count": 90,
   "id": "28c8f5a5",
   "metadata": {},
   "outputs": [],
   "source": [
    "from sklearn import datasets\n",
    "X, y, coef = datasets.make_regression(n_samples = 1000, n_features = 100,\n",
    "                                n_informative = 4, n_targets = 1,\n",
    "                                noise = 10.0, coef = True)"
   ]
  },
  {
   "cell_type": "markdown",
   "id": "7a26f728",
   "metadata": {},
   "source": [
    "**Q: Que fait le code ci-dessus, que font les paramètres ?**"
   ]
  },
  {
   "cell_type": "markdown",
   "id": "346e9038",
   "metadata": {},
   "source": [
    " Ce code génère un ensemble de données synthétiques pour une tâche de régression avec 100 échantillons, 10 caractéristiques dont 4 sont informatives, une seule cible à prédire, et ajoute du bruit gaussien. Les **données d'entrée**, les **valeurs cibles** et les **coefficients** utilisés pour générer les données sont stockés dans les variables **X**, **y** et **coef**, respectivement."
   ]
  },
  {
   "cell_type": "markdown",
   "id": "6f4f664f",
   "metadata": {},
   "source": [
    "**Q : Séparer le dataset en un ensemble d'apprentissage et de test.**"
   ]
  },
  {
   "cell_type": "code",
   "execution_count": 91,
   "id": "ed4d6eb2",
   "metadata": {},
   "outputs": [],
   "source": [
    "from sklearn.model_selection import train_test_split\n",
    "X_train, X_test, Y_train, Y_test= train_test_split(X, y, test_size=0.5)"
   ]
  },
  {
   "cell_type": "markdown",
   "id": "3bb2c16f",
   "metadata": {},
   "source": [
    "**Q : Pourquoi n'utilise-t-on pas d'ensemble de validation ici ?**"
   ]
  },
  {
   "cell_type": "markdown",
   "id": "b328a592",
   "metadata": {},
   "source": [
    "Il n'y a pas d'hyperparamètre"
   ]
  },
  {
   "cell_type": "markdown",
   "id": "f899c15e",
   "metadata": {
    "tags": []
   },
   "source": [
    "###  Least square solution"
   ]
  },
  {
   "cell_type": "markdown",
   "id": "11a723dd",
   "metadata": {},
   "source": [
    "On rappelle que l'estimateur des moindres carrés est donné par : $\\hat{\\beta} = (X^T X)^{-1} X^Ty $"
   ]
  },
  {
   "cell_type": "markdown",
   "id": "cf80ce90",
   "metadata": {},
   "source": [
    "**Q: Coder une fonction qui permet de calculer une estimation de celui-ci à partir des données.**"
   ]
  },
  {
   "cell_type": "code",
   "execution_count": 92,
   "id": "2668ab76",
   "metadata": {},
   "outputs": [
    {
     "name": "stdout",
     "output_type": "stream",
     "text": [
      "[ 5.05381405e-01 -3.04602192e-01  4.35306743e-01 -1.64666041e-01\n",
      " -1.33832338e-01  2.92521292e-01  3.71885866e-01  4.06146765e-01\n",
      "  6.22680300e-02  1.03866028e-01  5.08481780e-01  2.13634301e-01\n",
      " -3.45879971e-01  2.22739365e-01 -1.76496983e-01  4.50187088e-01\n",
      "  1.45916092e-01 -5.70278743e-01 -2.27123520e-01 -1.87446656e-01\n",
      " -3.64786857e-01  1.84042717e-02 -4.60519422e-02  7.88423227e-01\n",
      " -1.31270696e-01 -2.40173339e-01  8.30261747e+01  4.86225718e+00\n",
      " -2.09237994e-01 -1.33377516e-01 -1.03773078e-01  7.58246596e-02\n",
      " -8.60214523e-02  3.36117867e-02 -4.38836623e-01 -2.58217990e-02\n",
      " -3.62020153e-01 -1.06282743e-01  9.44139608e-03 -5.85856534e-01\n",
      "  2.70621349e-01  8.99866988e+01  3.09132233e-02 -2.17065154e-01\n",
      " -1.90040913e-01 -5.10800649e-01  3.42456727e-01 -4.57055222e-02\n",
      " -8.56593561e-02  1.08508687e-02  6.97621850e-01  3.26338145e-01\n",
      "  7.41130934e-02  2.92919266e-01  9.49083189e-02 -9.32385306e-02\n",
      "  1.18780466e-02 -1.59885280e-01  1.03113897e-01 -1.35485260e-01\n",
      "  6.41484419e-01  3.63422524e-01 -6.12953180e-01  3.03714857e-01\n",
      " -5.13374682e-02  2.41489403e-01  1.50853341e-01  1.76440423e-01\n",
      " -2.07208375e-01 -1.36699114e-01  2.81420406e-01 -1.57742781e-02\n",
      "  4.92355378e-01 -1.78995248e-01  7.35556807e-01 -3.63382667e-01\n",
      " -2.66504796e-01  8.57948450e+01  2.68485553e-01 -3.98373327e-01\n",
      "  3.00834344e-01 -4.76875831e-02  3.17570558e-01 -1.73672513e-02\n",
      "  4.21819076e-02 -8.74149583e-02  1.99238562e-01  9.16485103e-03\n",
      "  4.03862442e-01 -2.28625715e-01  1.52766657e-01  2.16792759e-01\n",
      "  1.84271299e-01 -3.98619140e-02  1.88975379e-02  6.75883854e-02\n",
      " -5.00111918e-01 -3.44155726e-01 -3.51264380e-02  1.15192859e-02]\n"
     ]
    }
   ],
   "source": [
    "def test(X,y) :\n",
    "    B = np.linalg.inv(np.dot(np.transpose(X),X))\n",
    "    B = np.dot(B,np.transpose(X))\n",
    "    return np.dot(B,y)\n",
    "\n",
    "def reg_OLS(X,y):\n",
    "    return np.linalg.inv(np.transpose(X)@X)@np.transpose(X)@y\n",
    "\n",
    "assert(test(X,y).all() == reg_OLS(X,y).all())\n",
    "print(reg_OLS(X,y))"
   ]
  },
  {
   "cell_type": "markdown",
   "id": "75775ab8",
   "metadata": {},
   "source": [
    "**Q: Donner un avis sur les valeurs des paramètres. Que constate-t-on et pourquoi ?**"
   ]
  },
  {
   "cell_type": "markdown",
   "id": "657b2d9c",
   "metadata": {},
   "source": []
  },
  {
   "cell_type": "markdown",
   "id": "8846fa4b",
   "metadata": {},
   "source": [
    "**Q: Créer une fonction `reg_lin` qui permet de prédire les labels `y` pour de nouvelles données `X`.**"
   ]
  },
  {
   "cell_type": "code",
   "execution_count": 93,
   "id": "8711f795",
   "metadata": {},
   "outputs": [
    {
     "name": "stdout",
     "output_type": "stream",
     "text": [
      "[ 415.49596637  137.41883756 -112.47252159  291.85761054 -111.28905171\n",
      "  174.98964534  -16.37005349   80.4847938  -151.13568073  197.30983869\n",
      " -177.96251239  166.0064946  -124.18971439 -177.94859542   74.57649009\n",
      "  286.72662409   29.87222133  -46.8310844   208.75082733 -299.1905084\n",
      "  168.2132336    86.75174636 -197.91750283   86.47972176   30.47504746\n",
      "  141.25405986 -232.00687248  105.04818366  285.56971126   30.91396093\n",
      " -156.03875257 -121.78589559   29.47565637   23.80821125  -45.38262016\n",
      "  189.44910518 -107.00648189   58.59924204   29.85597693  134.31698482\n",
      "   59.66893114   74.19667459  101.9314815  -108.42571728   98.8876563\n",
      " -159.14768975  190.05997175 -271.01307763  132.36884211   53.60156031\n",
      " -159.08584824 -266.50489415  -35.74399461  199.37904065   16.20997011\n",
      "  -24.35546081   42.37434629   57.69817322  221.3827908   103.25123861\n",
      "  -54.79537813   31.73934803  209.49362021  109.09030272   90.80871913\n",
      "  181.36889187 -161.41881059  138.6162211    -5.62246812 -118.70441028\n",
      "   55.64234568  203.57435458 -186.75634365   14.85883592   68.80321721\n",
      " -114.43545216   74.99426591   71.83328334  -10.17076576   -2.55273578\n",
      "  208.66244176  -14.65521143 -156.72329831   25.25930984 -132.90525982\n",
      "  -59.23418392 -106.94052638 -162.10632898  -27.96198127 -187.08643677\n",
      " -136.97244598   25.02972377  187.52121249  -93.95812196   20.68223253\n",
      " -280.34302047    3.89881598  -92.88452364 -181.91949908   43.78193784\n",
      "   90.46926702   24.5433491   113.7599265    40.61618791  320.76930026\n",
      "   80.75242339  -22.48926048  -29.9892562   -27.25354616  -72.66390268\n",
      " -115.40891324 -219.36894866  107.57176045 -109.16330449   22.93460324\n",
      " -367.5436951    85.53685774   94.2936844   150.76274267 -190.77888648\n",
      "   85.30601971 -336.00684555  131.09003138   81.67419381  170.87707011\n",
      "  162.49713601 -219.29314843 -174.43252392   88.50812381 -132.8417824\n",
      "  -35.87964985  176.03115872  194.25765732    2.27698402  -39.38436975\n",
      "  154.23497731  -90.65895218  225.41895777  -30.63227036 -370.84561887\n",
      "   13.75066076  -29.4077331   168.25643296 -267.25896279  152.06693215\n",
      "   99.84927338 -205.07598149 -106.21725799   -1.67630366   19.0007104\n",
      "  -92.07782859  272.93193558  144.62601528 -183.51954328 -243.85422485\n",
      "   -9.33291491  196.78319582   -6.70258045  181.13277216  -85.39996681\n",
      "  197.76228921 -132.36379222 -123.8661086  -228.03848158   38.44511865\n",
      "   53.20398981  104.14735237 -219.79951285  -91.49717947    3.21272501\n",
      "   57.87026931   89.0251785   154.98501634   14.14534489 -162.90411758\n",
      " -147.0554509   -81.14848923  -56.44123862  -44.33162612   62.43253512\n",
      "  352.01497354  119.64387238  174.56768617  -76.05625653 -346.02914112\n",
      " -273.82715162  142.73640496  108.4418782   141.19168059  -81.18358201\n",
      "   15.32497629  280.11157329   71.1672476    71.18063148 -148.03969689\n",
      "  126.48718463  -46.96209715  150.84716453   27.99687744   54.04611398\n",
      "  -18.1291345    77.94687593 -138.7807096  -186.41529947  200.12803316\n",
      "   83.05089913  244.85505414 -160.5478721   372.06944693 -222.87045561\n",
      "  232.27047132  386.3583979    87.03157266   42.40232804  192.72041576\n",
      "  181.74560593 -201.59105237 -138.35995004 -140.69128938 -115.80045928\n",
      "   -2.59244282   27.07805145  -59.64727409  -79.05251121 -220.35711791\n",
      "  -25.55546204   32.90708605  -85.83325211 -114.59803801  153.92951992\n",
      "   98.1557562    67.9518535   -27.94237443   61.93763483 -157.66705257\n",
      "   22.08560058  155.48537404 -314.3551314  -201.21792584  235.83194699\n",
      " -109.92132166 -147.51760238   86.5631157   216.86353725  253.15691408\n",
      " -248.98192585  224.27568729  -93.98692162  171.09651549 -161.51203284\n",
      "   -7.58132085  107.46254643 -167.90508235 -209.59981555 -160.07305308\n",
      "  420.38259585  128.69274598 -382.9237563    97.42492324 -242.36324979\n",
      "   -6.87588428  171.33740317  -57.66026504  -18.9164841   182.17443407\n",
      "  138.79800569   16.28117814  -73.95802313 -219.43711827  220.88851675\n",
      "  -61.84245283   71.96882291 -192.15734156  -19.46151292  -96.3082319\n",
      "   86.87864556  263.04438368  124.18650379  340.62134351   53.17057124\n",
      "  -89.29626917 -146.77932566  -89.66905881  -27.81828256   45.30345867\n",
      "  181.77667528   10.28134325  150.16013879  140.06518195  217.80644165\n",
      "  389.61488221 -181.61498541 -242.53365957   78.52827926 -167.50597097\n",
      "  142.91716984  348.49916542 -141.31973974  224.37994289 -243.90279826\n",
      "  -41.5946474   -19.48801473   -3.38069496  -98.58849055  -95.94985123\n",
      "   52.30284924   86.5895039   262.47398677  -12.91316298 -159.50423117\n",
      " -107.17705097 -194.93824068    4.60481878 -222.97726553  127.14436849\n",
      " -154.72129855 -101.53324255 -133.47253     276.55858751   11.80233874\n",
      "  -22.53177211  -90.25730129  272.78587642  -66.19952982   57.75341854\n",
      " -176.64453787  -67.47274526 -334.25772024  453.11885843   12.32049845\n",
      "   93.94843916 -163.35633309   47.79801379  194.01204213 -111.39536014\n",
      " -138.54032499   39.40307803   30.15139703   58.27692333  300.90894993\n",
      "  219.13907636   15.72669961 -170.85288643  255.4588227  -277.85386107\n",
      "   40.48658849  286.51572372   89.48107648 -124.22179277   28.25280746\n",
      "  -64.61442013  -54.53336759  -80.2871702   -17.4101997     4.48702337\n",
      " -191.85625377  267.96957821 -189.34593646   87.67274031  -49.94466123\n",
      "  -51.18143622   12.61857636  121.48341354 -146.78018498 -243.14454186\n",
      "  -84.65312686 -251.13233019   37.79600551 -264.22443393 -141.95726264\n",
      "   79.80279317 -148.60435909 -251.54014724  -63.97126853  196.21446508\n",
      "   22.95112844  -11.56988039  -46.12150398  -12.092328    -13.19834575\n",
      "  155.11225153  115.3307295  -197.25005767    6.8428028   -47.90676512\n",
      " -109.67891483  318.31126455   -0.56126975 -137.12697517  -28.01326206\n",
      "   50.67201353 -367.40336133   62.23721346 -226.81114209  -39.83382983\n",
      "  -24.14346877 -208.22158768  168.52427658 -131.65246987 -386.37583717\n",
      " -200.71666475  -79.7575274   119.33792706 -232.90721701   -5.96173374\n",
      " -186.17884996  114.85734676 -217.98810001  167.03866311   80.12068441\n",
      "  196.06013558 -206.03403824 -114.49890911  113.12124384  -16.53789123\n",
      "  229.51252627  -99.87700446  -88.25812091  142.66724669  518.60704074\n",
      "  -40.4589723   182.98898355  178.8548161   -45.22451995   71.32177273\n",
      " -166.51103075  192.57144826   72.87872867  -51.32624656  -77.68465601\n",
      "   17.11061688  178.34504499  -36.33162133  298.33033086   16.58282464\n",
      "  108.67466551   55.99801785  -63.358383     35.79166579 -166.10748366\n",
      " -259.5529835  -218.00338548  301.11314043  -84.84559182  -36.14216662\n",
      "  -24.53543722 -129.19324341 -153.2721241    86.95668304   66.02042447\n",
      "   -3.7246298   -45.45490109   66.93948695   45.75940127  128.61624332\n",
      "  206.85162655   54.20062851  -81.00064878  -40.96641027 -100.60880122\n",
      "  285.03460965   17.9344375   132.73540212  123.68848548 -169.57359652\n",
      "  105.05740783   11.97340683  123.42688602   51.34209671   31.32278435\n",
      " -123.48822929  -88.49238428   22.28287585   14.23119478  179.04569316\n",
      "    7.69125365  -54.02161956   64.56626887  -37.32195722   49.47326139\n",
      "  -76.97049143  -52.09493206  -23.76413873   38.44942761   52.30267437\n",
      "   28.35308528 -193.10522309  -57.56939971  -21.47405864   77.63310091\n",
      "  -75.94567464 -101.64318067  220.89067659  200.94154165  -22.41720886\n",
      "   84.25318815   55.27767189  233.14789333  -27.43129941   21.08879375]\n"
     ]
    }
   ],
   "source": [
    "def reg_lin(X_train,X_test,y):\n",
    "    coeff = reg_OLS(X_train,y)\n",
    "    y_pred = X_test @ coeff\n",
    "    return y_pred\n",
    "\n",
    "Y_pred = reg_lin(X_train,X_test,Y_train)\n",
    "print(Y_pred)\n",
    "#données proche de 0 si on augmente n_samples (=100), n_features (=10)"
   ]
  },
  {
   "cell_type": "markdown",
   "id": "476d2a02",
   "metadata": {},
   "source": [
    "**Q : Tester sur l'ensemble de test. Quel taux d'erreur avez-vous ? Que pouvez-vous dire ?**"
   ]
  },
  {
   "cell_type": "code",
   "execution_count": 94,
   "id": "1faea49a",
   "metadata": {},
   "outputs": [
    {
     "name": "stdout",
     "output_type": "stream",
     "text": [
      "24060.897555642052\n",
      "220.04684267979925\n"
     ]
    }
   ],
   "source": [
    "def root_mean_squared_error(y_true,y_pred):\n",
    "    return math.sqrt(((y_true-y_pred)**2).mean())\n",
    "\n",
    "print(np.var(Y_pred))\n",
    "print(root_mean_squared_error(Y_train,Y_pred))"
   ]
  },
  {
   "cell_type": "markdown",
   "id": "0aed6e52",
   "metadata": {
    "tags": []
   },
   "source": [
    "###  Descente de gradient"
   ]
  },
  {
   "cell_type": "markdown",
   "id": "483827ef",
   "metadata": {},
   "source": [
    "On rappelle que l'objectif est de minimiser $f(\\beta) = \\frac{1}{2} \\| X\\beta - y \\|^2$"
   ]
  },
  {
   "cell_type": "markdown",
   "id": "69f42e80",
   "metadata": {},
   "source": [
    "**Q: Coder la fonction de perte (loss) `f` qui prend en paramètres la matrice X, y et $\\beta$.**"
   ]
  },
  {
   "cell_type": "code",
   "execution_count": 95,
   "id": "2cb936fc",
   "metadata": {},
   "outputs": [],
   "source": [
    "def f(X,y,B):\n",
    "    return 0.5*np.linalg.norm(X@B-y)**2"
   ]
  },
  {
   "cell_type": "markdown",
   "id": "97ffaf94",
   "metadata": {},
   "source": [
    "On rappelle aussi que le gradient de $f$ est : $\\nabla f(\\beta) = X^T(X\\beta - y)$."
   ]
  },
  {
   "cell_type": "markdown",
   "id": "8c13a8d6",
   "metadata": {},
   "source": [
    "**Q: Coder la fonction  `grad_f` qui prend en paramètre la matrice X, y et $\\beta$**"
   ]
  },
  {
   "cell_type": "code",
   "execution_count": 96,
   "id": "f0629197",
   "metadata": {},
   "outputs": [],
   "source": [
    "def grad_f(X,y,B):\n",
    "    return np.transpose(X) @ ((X@B) -y)"
   ]
  },
  {
   "cell_type": "markdown",
   "id": "4f665782",
   "metadata": {
    "collapsed": true,
    "jupyter": {
     "outputs_hidden": true
    },
    "tags": []
   },
   "source": [
    "Maintenant, codons la descente de gradient, on rappelle que le passage de l'algorithme de l'étape $m$ à $m+1$ est donné par :\n",
    "$$\n",
    "\\beta^{(m+1)} = \\beta^{(m)} - \\tau \\nabla f(\\beta^{(m)}),\n",
    "$$\n",
    "où $\\tau$ est le pas de la descente."
   ]
  },
  {
   "cell_type": "markdown",
   "id": "a8ad2c27",
   "metadata": {},
   "source": [
    "**Q : Coder la fonction `Reg_lin_desc_grad` qui prend en entrée :`X`,`y`, `w` (initialisation de beta), `tau`, `n_iter` (le nombre d'itérations maximum), `tol` (la tolérance de la convergence).**\n",
    "\n",
    "Dans un second temps, cette fonction doit aussi afficher l'evolution de l'erreur d'entraînement comme une fonction du nombre d'itération."
   ]
  },
  {
   "cell_type": "code",
   "execution_count": 97,
   "id": "3d58f4a8",
   "metadata": {},
   "outputs": [
    {
     "name": "stdout",
     "output_type": "stream",
     "text": [
      "[ 4.60571503e+00 -4.51369937e-01  4.89259017e+00 -9.70468343e-01\n",
      " -3.86025510e+00 -2.49476470e+00 -3.50116677e+00 -1.77050593e+00\n",
      " -5.78778323e-01 -4.77108608e+00  1.43639105e+00  3.68953351e-01\n",
      " -2.23784907e+00  1.37455196e+00  5.78006516e+00  2.39011607e+00\n",
      "  4.01314507e-01 -2.30675995e-01  7.13897954e-01  1.12092242e+00\n",
      " -2.72552007e+00  3.55182785e+00  7.11821479e+00 -4.54741450e+00\n",
      "  6.67350099e+00 -2.98782912e+00  5.04345333e+01  8.12622908e+00\n",
      " -3.81468410e+00 -2.44591372e+00 -3.12243730e-01 -7.34440568e-01\n",
      " -5.69247722e+00  1.43739699e+00 -1.06210971e+00  1.47290750e+00\n",
      " -3.56774354e+00 -7.94100920e-01  2.07008527e+00 -2.76353414e+00\n",
      "  3.38283395e-01  5.67534272e+01 -1.47714176e-01  1.89383261e+00\n",
      " -3.16469382e-02  2.95667251e-01  1.27517942e+00 -7.27993272e-01\n",
      "  4.09186924e+00 -6.63950145e+00 -4.31724110e+00  3.27008118e+00\n",
      " -2.07808554e-01 -2.13755776e+00  3.95262873e-02  2.90501174e+00\n",
      "  6.99769184e+00  3.04945812e+00 -1.12847133e+00  1.10322887e+00\n",
      "  4.89697176e+00 -4.00248204e-01  5.32869120e+00  1.83464046e+00\n",
      " -4.23640346e+00  5.13027937e+00 -1.10653573e+00  2.45111061e+00\n",
      "  2.34799937e+00 -1.79115995e+00 -8.89964218e-01  1.15923949e+00\n",
      "  3.08057299e+00  8.51429188e-01  3.37133265e+00  1.46891629e+00\n",
      "  1.04071749e+00  5.29190066e+01 -1.66139199e+00 -3.56753262e+00\n",
      " -2.56373214e+00 -1.48486199e+00  2.19008153e-01 -4.91488307e+00\n",
      "  7.15107349e+00  3.30058268e+00  4.88465788e-01 -7.38271691e-01\n",
      "  2.69013683e+00  1.68226519e+00  1.06816270e+00  1.66999712e-01\n",
      "  6.94459278e-01  2.95744419e+00  2.39850155e+00 -2.59656158e-01\n",
      " -3.67000879e+00 -1.90887775e+00  2.36828153e+00  3.03832201e-01]\n"
     ]
    }
   ],
   "source": [
    "def Reg_lin_desc_grad(X,y,w,tau = 1/np.linalg.norm(X,2)**2 ,n_iter=50,tol = 1e3,plot=True):\n",
    "    B = [w]\n",
    "    for i in range(1,n_iter+1):\n",
    "        B.append(B[i-1] - tau*grad_f(X,y,B[i-1]))\n",
    "        error += abs(B[i]-B[i-1])\n",
    "        if (error).all() < tol):\n",
    "            return B[-1]\n",
    "    return B[-1]\n",
    "\n",
    "print(Reg_lin_desc_grad(X,y,np.ones(100)))"
   ]
  },
  {
   "cell_type": "markdown",
   "id": "232270d0",
   "metadata": {},
   "source": [
    "La variable `tau` définie en amont est donnée par un critère du controle de norme, il ne faut pas que le pas de l'algorithme dépasse  :\n",
    "$$\n",
    "\\tau_{max} = \\dfrac{2}{\\| X X^T\\|_{op}},\n",
    "$$\n",
    "avec $\\| .\\|_{op}$ est la valeur propre maximal."
   ]
  },
  {
   "cell_type": "markdown",
   "id": "cb3da956",
   "metadata": {},
   "source": [
    "**Q : Tester pour différentes valeurs de $\\tau$, que constatez-vous ?** (Convergence, estimation, etc.)"
   ]
  },
  {
   "cell_type": "code",
   "execution_count": 98,
   "id": "88afba16-6b36-4c5b-918b-bd38ac14d251",
   "metadata": {},
   "outputs": [
    {
     "name": "stdout",
     "output_type": "stream",
     "text": [
      "[ 3.06754461e+03 -1.23334343e+03  3.31152269e+03 -1.67481992e+03\n",
      " -4.13249057e+03 -2.97118493e+03 -3.82709751e+03 -2.35522615e+03\n",
      " -1.34170017e+03 -4.90712302e+03  3.72136544e+02 -5.35684870e+02\n",
      " -2.75268645e+03  3.19544386e+02  4.06629161e+03  1.18324899e+03\n",
      " -5.08162748e+02 -1.04565034e+03 -2.42320585e+02  1.03840625e+02\n",
      " -3.16743495e+03  2.17124748e+03  5.20434482e+03 -4.71689753e+03\n",
      "  4.82613004e+03 -3.39052035e+03  4.20434799e+04  6.06162853e+03\n",
      " -4.09373391e+03 -2.92963874e+03 -1.11502107e+03 -1.47408590e+03\n",
      " -5.69073654e+03  3.72992066e+02 -1.75275796e+03  4.03192615e+02\n",
      " -3.88371891e+03 -1.52482511e+03  9.11073090e+02 -3.19976469e+03\n",
      " -5.61768681e+02  4.74174959e+04 -9.75093978e+02  7.61175871e+02\n",
      " -8.76382527e+02 -5.98012340e+02  2.35031247e+02 -1.46860268e+03\n",
      "  2.63053530e+03 -6.49615017e+03 -4.52114247e+03  1.93163101e+03\n",
      " -1.02620231e+03 -2.66739192e+03 -8.15851988e+02  1.62115119e+03\n",
      "  5.10184392e+03  1.74399819e+03 -1.80919638e+03  8.87928354e+01\n",
      "  3.31524909e+03 -1.18986604e+03  3.68241258e+03  7.10834859e+02\n",
      " -4.45239265e+03  3.51366971e+03 -1.79054085e+03  1.23512288e+03\n",
      "  1.14743009e+03 -2.37279173e+03 -1.60635376e+03  1.36428061e+02\n",
      "  1.77046038e+03 -1.25354695e+02  2.01774212e+03  3.99798216e+02\n",
      "  3.56289135e+01  4.41564446e+04 -2.26242826e+03 -3.88353953e+03\n",
      " -3.02983952e+03 -2.11229517e+03 -6.63208436e+02 -5.02941773e+03\n",
      "  5.23229008e+03  1.95757154e+03 -4.34043388e+02 -1.47734414e+03\n",
      "  1.43840699e+03  5.81244590e+02  5.89701795e+01 -7.07439943e+02\n",
      " -2.58852553e+02  1.66574330e+03  1.19038057e+03 -1.07029703e+03\n",
      " -3.97069221e+03 -2.47290693e+03  1.16467942e+03 -5.91068313e+02]\n",
      "[ 6.13309023e+06 -2.46868586e+06  6.62104639e+06 -3.35163885e+06\n",
      " -8.26698015e+06 -5.94436886e+06 -7.65619402e+06 -4.71245130e+06\n",
      " -2.68539933e+06 -9.81624504e+06  7.42274089e+05 -1.07336874e+06\n",
      " -5.50737191e+06  6.37089773e+05  8.13058422e+06  2.36449898e+06\n",
      " -1.01832450e+06 -2.09329967e+06 -4.86640169e+05  2.05682251e+05\n",
      " -6.33686889e+06  4.34049596e+06  1.04066906e+07 -9.43579407e+06\n",
      "  9.65026107e+06 -6.78303970e+06  8.40849609e+07  1.21212581e+07\n",
      " -8.18946682e+06 -5.86127648e+06 -2.23204114e+06 -2.95017079e+06\n",
      " -1.13834721e+07  7.43985131e+05 -3.50751492e+06  8.04386231e+05\n",
      " -7.76943682e+06 -3.05164921e+06  1.82014718e+06 -6.40152838e+06\n",
      " -1.12553636e+06  9.48329928e+07 -1.95218696e+06  1.52035274e+06\n",
      " -1.75476405e+06 -1.19802368e+06  4.68063493e+05 -2.93920436e+06\n",
      "  5.25907160e+06 -1.29942993e+07 -9.04428393e+06  3.86126301e+06\n",
      " -2.05440363e+06 -5.33678285e+06 -1.63370298e+06  3.24030338e+06\n",
      "  1.02016888e+07  3.48599738e+06 -3.62039176e+06  1.75586671e+05\n",
      "  6.62849918e+06 -2.38173109e+06  7.36282617e+06  1.41967072e+06\n",
      " -8.90678431e+06  7.02534041e+06 -3.58308071e+06  2.46824677e+06\n",
      "  2.29286119e+06 -4.74758247e+06 -3.21470651e+06  2.70857121e+05\n",
      "  3.53892177e+06 -2.52708391e+05  4.03348525e+06  7.97597431e+05\n",
      "  6.92588270e+04  8.83108901e+07 -4.52685551e+06 -7.76907806e+06\n",
      " -6.06167804e+06 -4.22658935e+06 -1.32841587e+06 -1.00608345e+07\n",
      "  1.04625812e+07  3.91314409e+06 -8.70085776e+05 -2.95668728e+06\n",
      "  2.87481498e+06  1.16049018e+06  1.15941359e+05 -1.41687889e+06\n",
      " -5.19704106e+05  3.32948761e+06  2.37876214e+06 -2.14259306e+06\n",
      " -7.94338342e+06 -4.94781286e+06  2.32735983e+06 -1.18413563e+06]\n"
     ]
    }
   ],
   "source": [
    "print(Reg_lin_desc_grad(X,y,np.ones(100),0.5))#10^3\n",
    "print(Reg_lin_desc_grad(X,y,np.ones(100),1000))#10^6\n",
    "#le tau qui minimise est tau = 1/np.linalg.norm(X,2)**2"
   ]
  },
  {
   "cell_type": "markdown",
   "id": "d5d895c2",
   "metadata": {
    "tags": []
   },
   "source": [
    "###  Scikit-Learn"
   ]
  },
  {
   "cell_type": "code",
   "execution_count": 99,
   "id": "15c9260c",
   "metadata": {},
   "outputs": [],
   "source": [
    "from sklearn.linear_model import LinearRegression\n",
    "Model_LinearReg = LinearRegression()"
   ]
  },
  {
   "cell_type": "markdown",
   "id": "7ff15ca3",
   "metadata": {},
   "source": [
    "**Q: Que contient cet objet ? Comment mettre à jour ses poids ? Que dire des paramètres ?**"
   ]
  },
  {
   "cell_type": "markdown",
   "id": "7b8e6a03",
   "metadata": {},
   "source": [
    "Cette instance représente un modèle de régression linéaire, un algorithme couramment utilisé pour résoudre des problèmes de régression, où l'objectif est de prédire une valeur numérique continue en fonction de variables d'entrée.\n",
    "\n",
    "Voici ce que contient généralement un objet LinearRegression :\n",
    "\n",
    "- Poids (coefficients) du modèle : Lorsque vous ajustez ce modèle aux données d'entraînement à l'aide de la méthode fit(), les poids du modèle sont calculés de manière à minimiser l'erreur quadratique moyenne entre les prédictions du modèle et les valeurs réelles dans l'ensemble d'entraînement. Ces poids correspondent aux coefficients de la régression linéaire, notamment le coefficient intercept (l'ordonnée à l'origine) et les coefficients associés à chaque variable d'entrée.\n",
    "\n",
    "- Intercept (ordonnée à l'origine) : C'est le biais du modèle, qui représente la valeur prédite lorsque toutes les variables d'entrée sont nulles.\n",
    "\n",
    "Pour mettre à jour les poids du modèle, vous devez utiliser la méthode fit(X, y) où X sont les données d'entraînement (matrice des variables d'entrée) et y sont les valeurs cibles correspondantes. Lors de l'exécution de fit(), les poids du modèle sont ajustés de manière à minimiser la perte définie, généralement l'erreur quadratique moyenne dans le cas de la régression linéaire."
   ]
  },
  {
   "cell_type": "markdown",
   "id": "8e85b73a",
   "metadata": {
    "tags": []
   },
   "source": [
    "###  OLS / Gradient descent / Scikit-learn (learning time)"
   ]
  },
  {
   "cell_type": "markdown",
   "id": "e1b07850",
   "metadata": {},
   "source": [
    "Cette partie dépendra grandement de votre machine et de votre implémentation, toutefois elle permettra de vous faire une idée quant au choix de la méthode à privilégier."
   ]
  },
  {
   "cell_type": "code",
   "execution_count": 100,
   "id": "f720e408",
   "metadata": {},
   "outputs": [
    {
     "name": "stdout",
     "output_type": "stream",
     "text": [
      "Elapsed time is 0.000083 seconds.\n"
     ]
    }
   ],
   "source": [
    "from time import time \n",
    "t1 = time() \n",
    "#Quelque chose\n",
    "t2 = time()\n",
    "elapsed = t2 - t1 \n",
    "print('Elapsed time is %f seconds.' % elapsed) "
   ]
  },
  {
   "cell_type": "markdown",
   "id": "fce75632",
   "metadata": {},
   "source": [
    "**Q : Que fait le code ci-dessus ?**"
   ]
  },
  {
   "cell_type": "markdown",
   "id": "65ac8e22",
   "metadata": {},
   "source": []
  },
  {
   "cell_type": "markdown",
   "id": "f0904d05",
   "metadata": {},
   "source": [
    "**Q: Afficher l'évolution du temps de calcul en faisant varier le nombre d'individus dans le dataset  N = 100 : 100000 (pas logartihmique) et en laissant fixé p = 40.** "
   ]
  },
  {
   "cell_type": "code",
   "execution_count": null,
   "id": "3599d486",
   "metadata": {},
   "outputs": [],
   "source": []
  },
  {
   "cell_type": "markdown",
   "id": "42997943",
   "metadata": {},
   "source": [
    "**Q: Afficher l'évolution du temps de calcul en faisant varier le nombre de variables dans le dataset p = 40:5000 (pas logarithmique) et en laissant le nombre d'individus fixé N = 10000.**"
   ]
  },
  {
   "cell_type": "code",
   "execution_count": null,
   "id": "2afa46ad",
   "metadata": {},
   "outputs": [],
   "source": []
  },
  {
   "cell_type": "markdown",
   "id": "bcd8359c",
   "metadata": {
    "tags": []
   },
   "source": [
    "###  Gradient descent / Scikit-learn (performances)"
   ]
  },
  {
   "cell_type": "markdown",
   "id": "f3cd72b3",
   "metadata": {},
   "source": [
    "**Q: Comparer les performances de prédiction sur l'ensemble de test. Y a-t-il des différences ? Si oui, pourquoi ?**"
   ]
  },
  {
   "cell_type": "code",
   "execution_count": null,
   "id": "d4f1f13a",
   "metadata": {},
   "outputs": [],
   "source": []
  },
  {
   "cell_type": "markdown",
   "id": "99fcde26",
   "metadata": {
    "tags": []
   },
   "source": [
    "## Exercice 2 : Logistic Regression"
   ]
  },
  {
   "cell_type": "markdown",
   "id": "f74cb0e9",
   "metadata": {},
   "source": [
    "### Data Simulation"
   ]
  },
  {
   "cell_type": "code",
   "execution_count": 101,
   "id": "5b72ce2a",
   "metadata": {},
   "outputs": [],
   "source": [
    "n = 1000 # number of sample\n",
    "p = 2 # dimensionality\n",
    "omega = np.array([1,.5])*2.5 # offset \n",
    "n1 = int(n/2)\n",
    "X = np.vstack(( np.random.randn(n1,2), np.random.randn(n1,2)+np.ones([n1,1])*omega ))\n",
    "y = np.vstack(( np.ones([n1,1]), -np.ones([n1,1]) ))"
   ]
  },
  {
   "cell_type": "code",
   "execution_count": 102,
   "id": "7bf63426",
   "metadata": {},
   "outputs": [
    {
     "data": {
      "image/png": "[encoded data removed]",
      "text/plain": [
       "<Figure size 640x480 with 1 Axes>"
      ]
     },
     "metadata": {},
     "output_type": "display_data"
    }
   ],
   "source": [
    "I = find(y==-1)\n",
    "J = find(y==1)\n",
    "plt.clf\n",
    "plt.plot(X[I,0], X[I,1], '.')\n",
    "plt.plot(X[J,0], X[J,1], '.')\n",
    "plt.axis('equal');"
   ]
  },
  {
   "cell_type": "markdown",
   "id": "bac9d4ff",
   "metadata": {
    "tags": []
   },
   "source": [
    "###  Descente de gradient"
   ]
  },
  {
   "cell_type": "markdown",
   "id": "c28cff97",
   "metadata": {},
   "source": [
    "On rappelle que l'objectif de minimiser $g(\\beta) = \\dfrac{1}{n} \\sum_{i=1:n}  \\log(1 + e^{-yi \\langle X_i , \\beta \\rangle})$."
   ]
  },
  {
   "cell_type": "markdown",
   "id": "b19875cb",
   "metadata": {},
   "source": [
    "**Q: Coder la fonction de loss `g` qui prend en paramètre la matrice X, y et $\\beta$.**"
   ]
  },
  {
   "cell_type": "code",
   "execution_count": 103,
   "id": "131ace5c",
   "metadata": {},
   "outputs": [],
   "source": [
    "def g():\n",
    "    pass"
   ]
  },
  {
   "cell_type": "markdown",
   "id": "bc38a6f2",
   "metadata": {},
   "source": [
    "On rappelle aussi que le gradient de $g$ est : $$\\nabla g(\\beta) = \\dfrac{1}{n} X^T y \\odot \\sigma(- y \\ \\odot <X,\\beta>),$$\n",
    "où $\\odot$ est le produit élément par élément (* en python) et $\\sigma$ est la fonction sigmoide."
   ]
  },
  {
   "cell_type": "markdown",
   "id": "589fef39",
   "metadata": {},
   "source": [
    "**Q: Coder la fonction  `grad_g` qui prend en paramètre la matrice X, y et $\\beta$.**"
   ]
  },
  {
   "cell_type": "code",
   "execution_count": 104,
   "id": "600676db",
   "metadata": {},
   "outputs": [],
   "source": [
    "def grad_g():\n",
    "    pass"
   ]
  },
  {
   "cell_type": "markdown",
   "id": "506b9cdd",
   "metadata": {
    "collapsed": true,
    "jupyter": {
     "outputs_hidden": true
    },
    "tags": []
   },
   "source": [
    "Maintenant, codons la descente de gradient. On rappelle que le passage de l'algorithme de l'étape $m$ à $m+1$ est donné par :\n",
    "$$\n",
    "\\beta^{(m+1)} = \\beta^{(m)} - \\tau \\nabla g(\\beta^{(m)}),\n",
    "$$\n",
    "où $\\tau$ est le pas de la descente."
   ]
  },
  {
   "cell_type": "markdown",
   "id": "518f364b",
   "metadata": {},
   "source": [
    "**Q : Coder la fonction `Reg_log_desc_grad` qui prend en entrée :`X`,`y`, `w` (initialisation de beta), `tau`, `n_iter` (le nombre d'itérations maximum), `tol` (la tolérence de la convergence).**\n",
    "\n",
    "Dans un second temps, cette fonction doit aussi afficher l'évolution de l'erreur d'entraînement comme une fonction du nombre d'itération."
   ]
  },
  {
   "cell_type": "code",
   "execution_count": 105,
   "id": "f444c4f7",
   "metadata": {},
   "outputs": [],
   "source": [
    "def Reg_log_desc_grad(X,y,w,tau = 1/np.linalg.norm(X,2)**2 ,n_iter=50,tol = 1e3,plot=True):\n",
    "    pass"
   ]
  },
  {
   "cell_type": "markdown",
   "id": "d3ab7e2a",
   "metadata": {},
   "source": [
    "La variable `tau` définie en amont est donnée par un critère du contrôle de la norme, il ne faut pas que le pas de l'algorithme dépasse  :\n",
    "$\n",
    "\\tau_{max} = \\dfrac{2}{ 1/4\\| X \\|_{op}^2},\n",
    "$\n",
    "avec $\\| .\\|_{op}$ est la valeur propre maximale."
   ]
  },
  {
   "cell_type": "markdown",
   "id": "6fdafa9f",
   "metadata": {},
   "source": [
    "**Q : Tester différentes valeurs de $\\tau$, que constatez-vous ?** (Convergence, estimation, ...)"
   ]
  },
  {
   "cell_type": "code",
   "execution_count": null,
   "id": "7b9ac9dc-f8cc-4232-8223-5490e30afda0",
   "metadata": {},
   "outputs": [],
   "source": []
  },
  {
   "cell_type": "markdown",
   "id": "4c4c4171",
   "metadata": {
    "tags": []
   },
   "source": [
    "###  Scikit-Learn"
   ]
  },
  {
   "cell_type": "code",
   "execution_count": 106,
   "id": "9ca7aa26",
   "metadata": {},
   "outputs": [],
   "source": [
    "from sklearn.linear_model import LogisticRegression\n",
    "Model_LogReg = LogisticRegression()"
   ]
  },
  {
   "cell_type": "markdown",
   "id": "7dc8c620",
   "metadata": {},
   "source": [
    "**Q: Que contient cet objet ? Comment mettre à jour ses poids ? Que dire des paramètres ?**"
   ]
  },
  {
   "cell_type": "markdown",
   "id": "39629f73",
   "metadata": {},
   "source": []
  },
  {
   "cell_type": "markdown",
   "id": "79b0b39b",
   "metadata": {
    "tags": []
   },
   "source": [
    "###  Gradient descent / Scikit-learn (learning time)"
   ]
  },
  {
   "cell_type": "markdown",
   "id": "20ea0f10",
   "metadata": {},
   "source": [
    "Cette partie dépendra grandement de votre machine et de votre implémentation, toutefois elle permettra d'avoir des idées de quand utiliser un algorithme plutôt que l'autre."
   ]
  },
  {
   "cell_type": "markdown",
   "id": "ebd98302-3ab5-40bd-aa05-7fe3a7812d07",
   "metadata": {},
   "source": [
    "On pose $\\beta^\\star_j = (-1)^{j-1} \\exp(-(j-1)/10)$."
   ]
  },
  {
   "cell_type": "code",
   "execution_count": 107,
   "id": "48a10a58-7da2-45a6-9389-fe586789cea1",
   "metadata": {},
   "outputs": [
    {
     "data": {
      "text/plain": [
       "Text(0.5, 1.0, 'Parameters')"
      ]
     },
     "execution_count": 107,
     "metadata": {},
     "output_type": "execute_result"
    },
    {
     "data": {
      "image/png": "[encoded data removed]",
      "text/plain": [
       "<Figure size 640x480 with 1 Axes>"
      ]
     },
     "metadata": {},
     "output_type": "display_data"
    }
   ],
   "source": [
    "n_features = 40\n",
    "n_samples = 2000\n",
    "\n",
    "%matplotlib inline\n",
    "\n",
    "idx = np.arange(n_features)\n",
    "params = (-1) ** idx  * np.exp(-idx / 10.)\n",
    "params[20:] = 0.\n",
    "plt.stem(params)\n",
    "plt.title(\"Parameters\")"
   ]
  },
  {
   "cell_type": "code",
   "execution_count": 108,
   "id": "d24301b7-4520-49e4-b6c3-480c060fc260",
   "metadata": {},
   "outputs": [],
   "source": [
    "import numpy as np\n",
    "import copy\n",
    "def sigmoid(a):\n",
    "    x = copy.deepcopy(a)\n",
    "    if(x.size ==1) :\n",
    "        if x >= 0:\n",
    "            return 1.0 / (1.0 + np.exp(-x))\n",
    "        else : \n",
    "            # Utilisez la formule sigmoid(x) = 1 - sigmoid(-x) pour x < 0\n",
    "            return np.exp(x) / (1.0 + np.exp(x))\n",
    "        \n",
    "        \n",
    "    neg_part = find(x<=0)\n",
    "    pos_part = find(x>0)\n",
    "    if pos_part.size >= 0:\n",
    "        x[pos_part] = 1.0 / (1.0 + np.exp(-x[pos_part]))\n",
    "        \n",
    "    if neg_part.size >= 0: \n",
    "        x[neg_part] = np.exp(x[neg_part]) / (1.0 + np.exp(x[neg_part]))\n",
    "    \n",
    "    return x"
   ]
  },
  {
   "cell_type": "code",
   "execution_count": 109,
   "id": "8af7b936-80e4-4a90-9c2c-6388fb186b40",
   "metadata": {},
   "outputs": [
    {
     "name": "stderr",
     "output_type": "stream",
     "text": [
      "/tmp/ipykernel_10263/3800379213.py:2: DeprecationWarning: Please use `toeplitz` from the `scipy.linalg` namespace, the `scipy.linalg.special_matrices` namespace is deprecated.\n",
      "  from scipy.linalg.special_matrices import toeplitz\n"
     ]
    }
   ],
   "source": [
    "from numpy.random import multivariate_normal\n",
    "from scipy.linalg.special_matrices import toeplitz\n",
    "from numpy.random import binomial\n",
    "def simu_logreg(n_samples,params=params,rho=0.1):\n",
    "    \"\"\" simulation in a logistic regression model \n",
    "    \n",
    "    Parameters\n",
    "    ----------\n",
    "    coefs : `numpy.array`, shape=(n_features,)\n",
    "        Coefficients of the model\n",
    "    n_samples : `int`, \n",
    "        Number of samples to simulate\n",
    "    rho : `float`, default=0.1\n",
    "        Correlation of the features\n",
    "    Returns\n",
    "    -------\n",
    "    X : `numpy.ndarray`, shape=(n_samples, n_features)\n",
    "    Simulated features matrix. It samples of a centered Gaussian\n",
    "    vector with covariance given by the Toeplitz matrix\n",
    "    y : `numpy.array`, shape=(n_samples,)\n",
    "                 Simulated labels\n",
    "    \"\"\"\n",
    "    n_features = params.size\n",
    "    \n",
    "    cov = toeplitz(rho ** np.arange(0, n_features))\n",
    "    \n",
    "    features = multivariate_normal(np.zeros(n_features), cov, size=n_samples)\n",
    "    \n",
    "    pis = sigmoid(features.dot(params))\n",
    "    \n",
    "    labels = 2 * ( binomial(1,pis, n_samples) - 1)\n",
    "    \n",
    "    return((features,labels))"
   ]
  },
  {
   "cell_type": "code",
   "execution_count": 110,
   "id": "0dd9e275-5c88-4b1d-a76f-c53f8309d152",
   "metadata": {},
   "outputs": [
    {
     "name": "stdout",
     "output_type": "stream",
     "text": [
      "(2000,)\n",
      "(2000, 40)\n"
     ]
    }
   ],
   "source": [
    "X_perfs,y_perfs = simu_logreg(2000,params,rho = 0.1)\n",
    "print(y_perfs.shape)\n",
    "print(X_perfs.shape)"
   ]
  },
  {
   "cell_type": "markdown",
   "id": "237198c1-50f3-472a-84ea-8c2998cb882d",
   "metadata": {},
   "source": [
    "**Q: Que fait le code ci-dessus ? Détailler.**"
   ]
  },
  {
   "cell_type": "markdown",
   "id": "638c6d65-b4d2-444e-878e-e0261da1ebf1",
   "metadata": {},
   "source": []
  },
  {
   "cell_type": "markdown",
   "id": "1637ed9d-a2a9-4421-9474-80977049fb52",
   "metadata": {},
   "source": [
    "**Q: Afficher l'évolution du temps de calcul en fonction du nombre d'individus dans le dataset  N = 100 : 100000 et p = 40** "
   ]
  },
  {
   "cell_type": "code",
   "execution_count": null,
   "id": "19a29c2d-f14b-495e-9069-1e90f4538310",
   "metadata": {},
   "outputs": [],
   "source": []
  },
  {
   "cell_type": "markdown",
   "id": "8e4bdd52-3cb6-4cde-b29b-93d17906c088",
   "metadata": {},
   "source": [
    "**Q: Afficher l'évolution du temps de calcul en fonction de variables dans le dataset  N = 10000 et p = 40:5000**"
   ]
  },
  {
   "cell_type": "code",
   "execution_count": null,
   "id": "03d9739e-7d8d-42d1-a537-ea91e4601690",
   "metadata": {},
   "outputs": [],
   "source": []
  },
  {
   "cell_type": "markdown",
   "id": "e0c7fe4b",
   "metadata": {},
   "source": [
    "**Q: Afficher l'évolution du temps de calcul en faisant varier le nombre d'individus dans le dataset  N = 100 : 100000 (pas logartihmique) et en laissant fixé p = 40.**"
   ]
  },
  {
   "cell_type": "code",
   "execution_count": null,
   "id": "a7316c7b",
   "metadata": {},
   "outputs": [],
   "source": []
  },
  {
   "cell_type": "markdown",
   "id": "a3b7e55d",
   "metadata": {},
   "source": [
    "**Q: Afficher l'évolution du temps de calcul en faisant varier le nombre de variables dans le dataset p = 40:5000 (pas logarithmique) et en laissant le nombre d'individus fixé N = 10000.**"
   ]
  },
  {
   "cell_type": "code",
   "execution_count": null,
   "id": "f96bd175",
   "metadata": {},
   "outputs": [],
   "source": []
  },
  {
   "cell_type": "markdown",
   "id": "4cbd66e2",
   "metadata": {
    "tags": []
   },
   "source": [
    "###  Gradient descent / Scikit-learn (performances)"
   ]
  },
  {
   "cell_type": "markdown",
   "id": "1348ff26",
   "metadata": {},
   "source": [
    "**Q: Comparer les performances de prédiction sur l'ensemble de test. Y a-t-il des différences ? Si oui, pourquoi ?**"
   ]
  },
  {
   "cell_type": "code",
   "execution_count": null,
   "id": "bd03973b",
   "metadata": {},
   "outputs": [],
   "source": []
  },
  {
   "cell_type": "markdown",
   "id": "89b4d188",
   "metadata": {
    "tags": []
   },
   "source": [
    "###  Frontières de décision"
   ]
  },
  {
   "cell_type": "markdown",
   "id": "058c9575",
   "metadata": {},
   "source": [
    "En utilisant les fonctions de régression logistique (au choix : celle que vous avez implémentée ou celle de scikit-learn) on va maintenant tracer les frontières de décisions de notre modèle."
   ]
  },
  {
   "cell_type": "markdown",
   "id": "4e07c883",
   "metadata": {},
   "source": [
    "On génère une grille de points en 2D."
   ]
  },
  {
   "cell_type": "code",
   "execution_count": 111,
   "id": "9a4a8f1d",
   "metadata": {},
   "outputs": [],
   "source": [
    "q = 201\n",
    "tx = np.linspace( X[:,0].min(), X[:,0].max(),num=q) \n",
    "ty = np.linspace( X[:,1].min(), X[:,1].max(),num=q) \n",
    "[B,A] = np.meshgrid( ty,tx )\n",
    "G = np.vstack([A.flatten(), B.flatten()]).transpose()"
   ]
  },
  {
   "cell_type": "markdown",
   "id": "7ddfd4ba",
   "metadata": {},
   "source": [
    "**Q: Calculer les probabilités de classe associées à chacun des vecteurs composant la grille.**"
   ]
  },
  {
   "cell_type": "code",
   "execution_count": 112,
   "id": "fe4fe857",
   "metadata": {},
   "outputs": [],
   "source": [
    "proba_pred = ... "
   ]
  },
  {
   "cell_type": "code",
   "execution_count": 113,
   "id": "8ddc7ffe",
   "metadata": {},
   "outputs": [
    {
     "ename": "TypeError",
     "evalue": "'ellipsis' object is not subscriptable",
     "output_type": "error",
     "traceback": [
      "\u001b[0;31m---------------------------------------------------------------------------\u001b[0m",
      "\u001b[0;31mTypeError\u001b[0m                                 Traceback (most recent call last)",
      "Cell \u001b[0;32mIn[113], line 1\u001b[0m\n\u001b[0;32m----> 1\u001b[0m proba_class1 \u001b[38;5;241m=\u001b[39m \u001b[43mproba_pred\u001b[49m\u001b[43m[\u001b[49m\u001b[43m:\u001b[49m\u001b[43m,\u001b[49m\u001b[38;5;241;43m0\u001b[39;49m\u001b[43m]\u001b[49m\u001b[38;5;241m.\u001b[39mreshape(q,q)\n",
      "\u001b[0;31mTypeError\u001b[0m: 'ellipsis' object is not subscriptable"
     ]
    }
   ],
   "source": [
    "proba_class1 = proba_pred[:,0].reshape(q,q)"
   ]
  },
  {
   "cell_type": "code",
   "execution_count": null,
   "id": "bec5c484",
   "metadata": {},
   "outputs": [],
   "source": [
    "plt.clf\n",
    "plt.imshow(proba_class1.transpose(), origin=\"lower\",  extent=[tx.min(),tx.max(),ty.min(),ty.max()])\n",
    "plt.axis('equal')\n",
    "plt.plot(X[I,0], X[I,1], '.')\n",
    "plt.plot(X[J,0], X[J,1], '.')\n",
    "plt.axis('off');"
   ]
  },
  {
   "cell_type": "markdown",
   "id": "0667d0b1",
   "metadata": {},
   "source": [
    "## Exercice 3 : Penalized Regression"
   ]
  },
  {
   "cell_type": "code",
   "execution_count": null,
   "id": "a75ae158",
   "metadata": {
    "tags": []
   },
   "outputs": [],
   "source": [
    "help(LogisticRegression)\n",
    "help(LinearRegression)"
   ]
  },
  {
   "cell_type": "markdown",
   "id": "1ced8fe4",
   "metadata": {},
   "source": [
    "**Q: Dans l'aide, quel est l'argument qui permet de gérer la pénalité utilisée ?**"
   ]
  },
  {
   "cell_type": "markdown",
   "id": "53d46e5e",
   "metadata": {},
   "source": []
  },
  {
   "cell_type": "markdown",
   "id": "78314b8e",
   "metadata": {},
   "source": [
    "**Q: [Regression] Comparer les différentes pénalisations en termes de performances sur l'ensemble d'apprentissage et de test ainsi que sur l'estimation des coefficients. Commenter.**"
   ]
  },
  {
   "cell_type": "code",
   "execution_count": null,
   "id": "65045793",
   "metadata": {},
   "outputs": [],
   "source": []
  },
  {
   "cell_type": "code",
   "execution_count": null,
   "id": "0a908218",
   "metadata": {},
   "outputs": [],
   "source": []
  },
  {
   "cell_type": "code",
   "execution_count": null,
   "id": "38df73e7",
   "metadata": {},
   "outputs": [],
   "source": []
  },
  {
   "cell_type": "code",
   "execution_count": null,
   "id": "496c8022",
   "metadata": {},
   "outputs": [],
   "source": []
  },
  {
   "cell_type": "markdown",
   "id": "8c4ee6b7",
   "metadata": {},
   "source": [
    "**Q: [Classification] Comparer les différentes pénalisations en termes de performances sur l'ensemble d'apprentissage et de test ainsi que sur l'estimation des coefficients. Commenter.**"
   ]
  },
  {
   "cell_type": "code",
   "execution_count": null,
   "id": "d3d93fb0",
   "metadata": {},
   "outputs": [],
   "source": []
  },
  {
   "cell_type": "code",
   "execution_count": null,
   "id": "95a8e916",
   "metadata": {},
   "outputs": [],
   "source": []
  },
  {
   "cell_type": "code",
   "execution_count": null,
   "id": "df085d07",
   "metadata": {},
   "outputs": [],
   "source": []
  },
  {
   "cell_type": "code",
   "execution_count": null,
   "id": "cf131f16",
   "metadata": {},
   "outputs": [],
   "source": []
  },
  {
   "cell_type": "markdown",
   "id": "725521b4",
   "metadata": {},
   "source": [
    "**Q: Créer une procédure d'optimisation des hyper-paramètres.**"
   ]
  },
  {
   "cell_type": "code",
   "execution_count": null,
   "id": "db6e45ce",
   "metadata": {},
   "outputs": [],
   "source": []
  },
  {
   "cell_type": "markdown",
   "id": "e78d4dca",
   "metadata": {
    "tags": []
   },
   "source": [
    "## Exercice 4 : Decision Tree and random Forest"
   ]
  },
  {
   "cell_type": "markdown",
   "id": "59bfa76e",
   "metadata": {},
   "source": [
    "### Arbre de décision"
   ]
  },
  {
   "cell_type": "markdown",
   "id": "3072d70a",
   "metadata": {},
   "source": [
    "The DecisionTreeClassifier() of the library ‘tree’ implements the decision tree for classification."
   ]
  },
  {
   "cell_type": "code",
   "execution_count": null,
   "id": "948a008d",
   "metadata": {},
   "outputs": [],
   "source": [
    "from sklearn import tree\n",
    "from sklearn.tree import DecisionTreeClassifier"
   ]
  },
  {
   "cell_type": "markdown",
   "id": "ca4c8647",
   "metadata": {},
   "source": [
    "**Q: Quels sont les hyper-paramètres d'un arbre de décision ? Quelless sont les valeurs par défaut de `DecisionTreeClassifier()`?**"
   ]
  },
  {
   "cell_type": "markdown",
   "id": "0038e415",
   "metadata": {},
   "source": []
  },
  {
   "cell_type": "markdown",
   "id": "6cb2fc2c",
   "metadata": {},
   "source": [
    "**Q: Calculer la prédiction des classes associées à toutes les entrées de l'ensemble des données de la grille et visualiser les frontières de décision.**"
   ]
  },
  {
   "cell_type": "code",
   "execution_count": null,
   "id": "6098872f",
   "metadata": {},
   "outputs": [],
   "source": []
  },
  {
   "cell_type": "code",
   "execution_count": null,
   "id": "b4dc9bfe",
   "metadata": {},
   "outputs": [],
   "source": [
    "from sklearn.tree import export_text\n",
    "r = export_text(treefit); # treefit -> Model\n",
    "print(r)"
   ]
  },
  {
   "cell_type": "markdown",
   "id": "0d9496b6",
   "metadata": {},
   "source": [
    "**Q: Que fait le code ci-dessus ?**"
   ]
  },
  {
   "cell_type": "code",
   "execution_count": null,
   "id": "5781a109",
   "metadata": {},
   "outputs": [],
   "source": []
  },
  {
   "cell_type": "markdown",
   "id": "90e2a589",
   "metadata": {},
   "source": [
    "**Q: Créer une procédure d'optimisation des hyper-paramètres.**"
   ]
  },
  {
   "cell_type": "code",
   "execution_count": null,
   "id": "dcf7cf89",
   "metadata": {},
   "outputs": [],
   "source": []
  },
  {
   "cell_type": "markdown",
   "id": "47cda2e3",
   "metadata": {},
   "source": [
    "### Forêts aléatoires"
   ]
  },
  {
   "cell_type": "code",
   "execution_count": null,
   "id": "9f036853",
   "metadata": {},
   "outputs": [],
   "source": [
    "from sklearn.ensemble import RandomForestClassifier"
   ]
  },
  {
   "cell_type": "markdown",
   "id": "00bfbc00",
   "metadata": {},
   "source": [
    "**Q: Quels sont les hyper-paramètres d'un arbre de décision ? Quelles sont les valeurs par défaut de `DecisionTreeClassifier()`?**"
   ]
  },
  {
   "cell_type": "markdown",
   "id": "b3e6f7f2",
   "metadata": {},
   "source": []
  },
  {
   "cell_type": "markdown",
   "id": "b459b600",
   "metadata": {},
   "source": [
    "**Q: Calculer la prédiction des classes associées à toutes les entrées de l'ensemble de données de la grille et visualiser les frontières de décision.**"
   ]
  },
  {
   "cell_type": "code",
   "execution_count": null,
   "id": "1ea9d537",
   "metadata": {},
   "outputs": [],
   "source": []
  },
  {
   "cell_type": "markdown",
   "id": "ae8657a1",
   "metadata": {},
   "source": [
    "**Q: Créer une procédure d'optimisation des hyper-paramètres.**"
   ]
  },
  {
   "cell_type": "code",
   "execution_count": null,
   "id": "71ebab23",
   "metadata": {},
   "outputs": [],
   "source": []
  },
  {
   "cell_type": "markdown",
   "id": "bec28531",
   "metadata": {
    "tags": []
   },
   "source": [
    "## Exercice 5"
   ]
  },
  {
   "cell_type": "markdown",
   "id": "81fcc4e5",
   "metadata": {},
   "source": [
    "**Q: Appliquer tout ce que vous avez vu au cours de ce TP au dataset [Maternal Health Risk](https://archive.ics.uci.edu/dataset/863/maternal+health+risk).**"
   ]
  },
  {
   "cell_type": "code",
   "execution_count": null,
   "id": "a90e539a",
   "metadata": {},
   "outputs": [],
   "source": []
  },
  {
   "cell_type": "code",
   "execution_count": null,
   "id": "f4829371-a376-4e7d-95c2-b99e874c4a61",
   "metadata": {},
   "outputs": [],
   "source": []
  }
 ],
 "metadata": {
  "kernelspec": {
   "display_name": "Python 3 (ipykernel)",
   "language": "python",
   "name": "python3"
  },
  "language_info": {
   "codemirror_mode": {
    "name": "ipython",
    "version": 3
   },
   "file_extension": ".py",
   "mimetype": "text/x-python",
   "name": "python",
   "nbconvert_exporter": "python",
   "pygments_lexer": "ipython3",
   "version": "3.11.5"
  }
 },
 "nbformat": 4,
 "nbformat_minor": 5
}
